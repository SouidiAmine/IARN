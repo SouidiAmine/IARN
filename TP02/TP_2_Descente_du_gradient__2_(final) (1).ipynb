{
  "cells": [
    {
      "cell_type": "markdown",
      "source": [
        "\n",
        "Le travail rendu par :\n",
        "*  Mohamed Amine SOUIDI 181831044438   G2\n",
        "*  Imad Eddine DJEKOUNE 181831089663   G2"
      ],
      "metadata": {
        "id": "1qcnStCnaUVi"
      }
    },
    {
      "cell_type": "markdown",
      "metadata": {
        "id": "j1_GBEAaf2e0"
      },
      "source": [
        "# TP 2 Descente du Gradient\n",
        "Dans ce TP, nous aimerions prédire le bénéfice d'une entreprise dans plusieurs ville en nous basant sur les habitant de cette ville.\n",
        "\n",
        "Pour ce faire, nous étudierons un ensemble de données avec le bénéfice (y) et les caractéristiques des habitants (X).\n",
        "\n",
        "La prédiction se fera avec l'agorithme de descente du gradient."
      ]
    },
    {
      "cell_type": "markdown",
      "metadata": {
        "id": "xqXVyDtlf2e4"
      },
      "source": [
        "# Importation des librairies necessaires au travail"
      ]
    },
    {
      "cell_type": "code",
      "execution_count": null,
      "metadata": {
        "id": "Z7Ut1MyHf2e4"
      },
      "outputs": [],
      "source": [
        "import numpy as np\n",
        "import matplotlib.pyplot as plt\n"
      ]
    },
    {
      "cell_type": "markdown",
      "metadata": {
        "id": "ekH1R_JWf2e5"
      },
      "source": [
        "# Lecture des fichiers de données\n",
        "Pour ce TP, nous allons lire les données à partir d'un fichier csv."
      ]
    },
    {
      "cell_type": "code",
      "source": [
        "from google.colab import drive\n",
        "drive.mount('/content/drive')"
      ],
      "metadata": {
        "colab": {
          "base_uri": "https://localhost:8080/"
        },
        "id": "hEkXSfzQDZkc",
        "outputId": "cb324f2d-e603-4479-9041-3127d0ce84e2"
      },
      "execution_count": null,
      "outputs": [
        {
          "output_type": "stream",
          "name": "stdout",
          "text": [
            "Mounted at /content/drive\n"
          ]
        }
      ]
    },
    {
      "cell_type": "code",
      "execution_count": null,
      "metadata": {
        "id": "GsEfLfb6f2e6",
        "outputId": "810b9e40-a205-4bb7-8dbd-5e781e22580a",
        "colab": {
          "base_uri": "https://localhost:8080/"
        }
      },
      "outputs": [
        {
          "output_type": "execute_result",
          "data": {
            "text/plain": [
              "(100, 3)"
            ]
          },
          "metadata": {},
          "execution_count": 5
        }
      ],
      "source": [
        "# données\n",
        "data = np.genfromtxt('/content/drive/MyDrive/AARN/TP03/data.csv', delimiter=',')\n",
        "data.shape\n"
      ]
    },
    {
      "cell_type": "markdown",
      "metadata": {
        "id": "hYl6Ry2Uf2e7"
      },
      "source": [
        "Dans ces données (data), la première colonne represente la première caractéristique (la population d'une ville x1000), la deuxieme colonne represente le bénéfice (x1000).\n",
        "\n",
        "Chaque ligne represente un exemple de notre ensemble de données. \n",
        "\n",
        "Mettons ces données dans leus vecteurs correspondants."
      ]
    },
    {
      "cell_type": "code",
      "execution_count": null,
      "metadata": {
        "id": "ocIjARGwf2e7"
      },
      "outputs": [],
      "source": [
        "# rajoutons l'ordonnée à l'origine theta 0\n",
        "intercept=np.ones((data.shape[0],1))\n",
        "X=np.column_stack((intercept,data[:,0:2]))\n",
        "y = data[:, 2];"
      ]
    },
    {
      "cell_type": "code",
      "execution_count": null,
      "metadata": {
        "id": "UZzbI6m9f2e8",
        "outputId": "882d6a0b-c43f-467d-f511-d79bb108171c",
        "colab": {
          "base_uri": "https://localhost:8080/",
          "height": 296
        }
      },
      "outputs": [
        {
          "output_type": "execute_result",
          "data": {
            "text/plain": [
              "Text(0, 0.5, 'Bénéfice x1000')"
            ]
          },
          "metadata": {},
          "execution_count": 7
        },
        {
          "output_type": "display_data",
          "data": {
            "text/plain": [
              "<Figure size 432x288 with 1 Axes>"
            ],
            "image/png": "[encoded data removed]"
          },
          "metadata": {
            "needs_background": "light"
          }
        }
      ],
      "source": [
        "# traçons ces données pour visualisation\n",
        "plt.scatter(X[:,1],y,marker ='x')\n",
        "plt.xlabel('Population x 1000')\n",
        "plt.ylabel('Bénéfice x1000')"
      ]
    },
    {
      "cell_type": "markdown",
      "metadata": {
        "id": "LEvfJ63Vf2e9"
      },
      "source": [
        "# Descente du Gradient : Préparation des fonctions"
      ]
    },
    {
      "cell_type": "markdown",
      "metadata": {
        "id": "GGTO0spOf2e9"
      },
      "source": [
        "1- Calcul du coût\n",
        "\n",
        "Cette fonction servira à calculer le cout $J(\\theta_0,\\theta_1)$\n",
        "\n",
        "Elle prendra l'ensemble de données d'apprentissage en entrée ainsi que les paramètres définis initialement"
      ]
    },
    {
      "cell_type": "code",
      "source": [
        "def initialisation(parametre):\n",
        " \n",
        "  return np.zeros((parametre,1))\n",
        "print(initialisation(2))"
      ],
      "metadata": {
        "colab": {
          "base_uri": "https://localhost:8080/"
        },
        "id": "mS_pbkr-GNzj",
        "outputId": "236216fe-fce4-4d4e-f477-86f24f9abbd6"
      },
      "execution_count": null,
      "outputs": [
        {
          "output_type": "stream",
          "name": "stdout",
          "text": [
            "[[0.]\n",
            " [0.]]\n"
          ]
        }
      ]
    },
    {
      "cell_type": "code",
      "source": [
        "def model(X,theta):\n",
        "  return X.dot(theta)"
      ],
      "metadata": {
        "id": "-RAhtLFNH5wf"
      },
      "execution_count": null,
      "outputs": []
    },
    {
      "cell_type": "code",
      "source": [
        "def Sigmoid(z):\n",
        "    # pour une valeur donnée, cette fonction calculera sa sigmoid\n",
        "    return 1 / (1+np.exp(-z))"
      ],
      "metadata": {
        "id": "S6ed9y0cEJ_s"
      },
      "execution_count": null,
      "outputs": []
    },
    {
      "cell_type": "code",
      "source": [
        "def modelNonVect(A,B):\n",
        "  result = [] # final result\n",
        "  for i in range(len(A)):\n",
        "\n",
        "      row = [] # the new row in new matrix\n",
        "      for j in range(len(B[0])):\n",
        "          \n",
        "          product = 0 # the new element in the new row\n",
        "          for v in range(len(A[i])):\n",
        "              product += A[i][v] * B[v][j]\n",
        "          row.append(product) # append sum of product into the new row\n",
        "          \n",
        "      result.append(row) # append the new row into the final result\n",
        "  return result\n"
      ],
      "metadata": {
        "id": "yWjYL_xXteGt"
      },
      "execution_count": null,
      "outputs": []
    },
    {
      "cell_type": "code",
      "execution_count": null,
      "metadata": {
        "id": "Cfi6ay_Lf2e-",
        "colab": {
          "base_uri": "https://localhost:8080/"
        },
        "outputId": "dd5f3005-c97f-47a3-fd8e-8acc65fa11e2"
      },
      "outputs": [
        {
          "output_type": "stream",
          "name": "stdout",
          "text": [
            "\n",
            "avec vectorisation : 0.12159347534179688 ms\n",
            "\n",
            "sans vectorisation : 0.0667572021484375 ms\n"
          ]
        }
      ],
      "source": [
        "import time\n",
        "\n",
        "def computeCostNonVect(X, y, theta):\n",
        "    \n",
        "    # idéalement, tracer le coût à chaque itération pour s'assurer que la descente du gradient est correcte\n",
        "    m = len(y)\n",
        "    s = 0 \n",
        "    for i in range(len(X)):\n",
        "      s = s + (modelNonVect(X,theta)[i]-y[i])**2\n",
        "    \n",
        "    return 1/(2*m) * s \n",
        "\n",
        "\n",
        "def computeCost(X, y, theta):\n",
        "  m = len(y)\n",
        "  return 1/(2*m) * np.sum((model(X,theta)-y)**2)\n",
        "    # calculer le coût avec et sans vectorisation, \n",
        "    # comparer le temps de traitement\n",
        "\n",
        "theta = initialisation(2)\n",
        "start = time.time()\n",
        "print()\n",
        "#print(computeCost(X,y,theta))\n",
        "end = time.time()\n",
        "print(\"avec vectorisation : \"+ str((end-start)*1000)+' ms')\n",
        "start = time.time()\n",
        "#print(computeCostNonVect(X, y, theta))\n",
        "print()\n",
        "end = time.time()\n",
        "print(\"sans vectorisation : \"+ str((end-start)*1000)+' ms')\n",
        " "
      ]
    },
    {
      "cell_type": "markdown",
      "source": [
        "le traitement de cout avec vectorisation  plus rapide  de traitement sans vectorisation \"presque le double\""
      ],
      "metadata": {
        "id": "NDITV4cb15MG"
      }
    },
    {
      "cell_type": "markdown",
      "metadata": {
        "id": "e5y3h-Dif2e_"
      },
      "source": [
        "2- Fonction de la descente du gradient\n",
        "\n",
        "Cette fonction mettra à jour les paramètres $\\theta_0,\\theta_1$ jusqu'à convergence: atteinte du nombre d'itérations max, ou dérivée assez petite."
      ]
    },
    {
      "cell_type": "code",
      "source": [
        "\n",
        "def grad(X, y, theta):\n",
        "  m=len(y)\n",
        "  z = model(X,theta)\n",
        "  return 1/m * X.T.dot(Sigmoid(z)-y)\n",
        "\n",
        "\n",
        "def gradientDescent(X, y, theta, alpha , iterations = 100):\n",
        "    cost  = np.zeros(iterations)\n",
        "    cout = []\n",
        "   \n",
        "    for i in range(0, iterations):\n",
        "      \n",
        "      theta = theta - alpha * grad(X,y,theta)\n",
        "      \n",
        "      cost[i]= computeCost(X,y,theta)\n",
        "      # pour le courbe \n",
        "      #cout pour tracer cout par rapport a theta0 et theta1\n",
        "      cout.append([float(theta[0]),float(theta[1]),cost[i]])\n",
        "    return theta ,cost ,cout"
      ],
      "metadata": {
        "id": "GleEpUa6uQiO"
      },
      "execution_count": null,
      "outputs": []
    },
    {
      "cell_type": "markdown",
      "metadata": {
        "id": "Ibj4xistf2e_"
      },
      "source": [
        "# Descente du Gradient : Appel des fonctions"
      ]
    },
    {
      "cell_type": "markdown",
      "metadata": {
        "id": "fndIe1A0f2e_"
      },
      "source": [
        "Initialisation de $\\theta_0$ et $\\theta_1$"
      ]
    },
    {
      "cell_type": "code",
      "execution_count": null,
      "metadata": {
        "id": "hM0d6keyf2fA",
        "colab": {
          "base_uri": "https://localhost:8080/"
        },
        "outputId": "10730e04-ffb3-4257-d0ff-e484c0f606a5"
      },
      "outputs": [
        {
          "output_type": "execute_result",
          "data": {
            "text/plain": [
              "(3, 1)"
            ]
          },
          "metadata": {},
          "execution_count": 14
        }
      ],
      "source": [
        "theta = initialisation(3) \n",
        "theta.shape"
      ]
    },
    {
      "cell_type": "markdown",
      "metadata": {
        "id": "_QNKuRyMf2fA"
      },
      "source": [
        "Calculer le cout initial"
      ]
    },
    {
      "cell_type": "code",
      "execution_count": null,
      "metadata": {
        "id": "1k9uq5olf2fA",
        "colab": {
          "base_uri": "https://localhost:8080/",
          "height": 300
        },
        "outputId": "02201e35-887d-4e90-f0ea-592ece24dd25"
      },
      "outputs": [
        {
          "output_type": "stream",
          "name": "stdout",
          "text": [
            "0.3\n"
          ]
        },
        {
          "output_type": "execute_result",
          "data": {
            "text/plain": [
              "[<matplotlib.lines.Line2D at 0x7fa84436ba10>]"
            ]
          },
          "metadata": {},
          "execution_count": 19
        },
        {
          "output_type": "display_data",
          "data": {
            "text/plain": [
              "<Figure size 432x288 with 1 Axes>"
            ],
            "image/png": "[encoded data removed]"
          },
          "metadata": {
            "needs_background": "light"
          }
        }
      ],
      "source": [
        "#cout initial\n",
        "y = np.reshape(y,(100,1))\n",
        "initialCost=computeCost(X, y, theta)\n",
        "print(initialCost)\n",
        "#test Model\n",
        "plt.scatter(X[:,1],y,marker ='x')\n",
        "plt.plot(X[:,1],modelNonVect(X,theta),c='r')\n"
      ]
    },
    {
      "cell_type": "markdown",
      "metadata": {
        "id": "oa2KSvlDf2fA"
      },
      "source": [
        "Appel des la fonction de calcul du gradient"
      ]
    },
    {
      "cell_type": "code",
      "execution_count": null,
      "metadata": {
        "id": "QOAjE5Saf2fA",
        "colab": {
          "base_uri": "https://localhost:8080/"
        },
        "outputId": "ff46d2ea-eea5-4eec-ccc0-8b3356663f2d"
      },
      "outputs": [
        {
          "output_type": "stream",
          "name": "stdout",
          "text": [
            "theta =  [[-2.84212435]\n",
            " [ 0.15323139]\n",
            " [ 0.11346886]]\n"
          ]
        }
      ],
      "source": [
        "# paramètres\n",
        "iterations = 5000;\n",
        "alpha = 0.01;\n",
        "# Appel\n",
        "#print(model(X,theta).shape)\n",
        "theta_ , cost ,cout  = gradientDescent(X,y,theta  ,alpha,iterations)\n",
        "#print(cout[0][0])\n",
        "#tt = gradientDescent(X, y, theta, alpha, iterations)\n",
        "print('theta = ',theta_)\n"
      ]
    },
    {
      "cell_type": "markdown",
      "metadata": {
        "id": "19K_Y5kif2fB"
      },
      "source": [
        "Traçage de la fonction du coût"
      ]
    },
    {
      "cell_type": "markdown",
      "metadata": {
        "id": "OSXiphr2f2fB"
      },
      "source": [
        "Notons que $\\theta^T  x$ est équivalent à $X  \\theta $ où $X= \\begin{pmatrix}\n",
        "..(x^{(1)})^T..\\\\\n",
        "..(x^{(2)})^T..\\\\\n",
        ".\\\\\n",
        ".\\\\\n",
        ".\\\\\n",
        "..(x^{(m)})^T..\n",
        "\\end{pmatrix} $"
      ]
    },
    {
      "cell_type": "code",
      "execution_count": null,
      "metadata": {
        "id": "MkG1iz5qf2fB",
        "outputId": "49f02ea7-31cd-4ce9-9819-3584aa2e8711",
        "colab": {
          "base_uri": "https://localhost:8080/",
          "height": 296
        }
      },
      "outputs": [
        {
          "output_type": "execute_result",
          "data": {
            "text/plain": [
              "[<matplotlib.lines.Line2D at 0x7fa84485e790>]"
            ]
          },
          "metadata": {},
          "execution_count": 24
        },
        {
          "output_type": "display_data",
          "data": {
            "text/plain": [
              "<Figure size 432x288 with 1 Axes>"
            ],
            "image/png": "[encoded data removed]"
          },
          "metadata": {
            "needs_background": "light"
          }
        }
      ],
      "source": [
        "y_pred=np.matmul(X,theta_)\n",
        "plt.scatter(X[:,1],y,marker ='x')\n",
        "plt.xlabel('Population x 1000')\n",
        "plt.ylabel('Chiffre d\\'affaires x1000')\n",
        "plt.plot(X[:,1],y_pred, c ='red')\n",
        "# la ligne du graphe represente le traçage de la fonction hypothèse\n",
        "# la ligne devrait se rapprocher des données après entrainement avec la descente du gredient"
      ]
    },
    {
      "cell_type": "markdown",
      "metadata": {
        "id": "ydF1kmH_f2fB"
      },
      "source": [
        "Traçage du coût en fonction de theta0 et theta1"
      ]
    },
    {
      "cell_type": "code",
      "execution_count": null,
      "metadata": {
        "id": "pvs0tWIFf2fB",
        "colab": {
          "base_uri": "https://localhost:8080/",
          "height": 298
        },
        "outputId": "765e7e05-7fab-4c57-f03e-a782f5f8bc89"
      },
      "outputs": [
        {
          "output_type": "stream",
          "name": "stdout",
          "text": [
            "[6.73719046 5.93159357 5.90115471 ... 4.4769714  4.4769714  4.4769714 ]\n"
          ]
        },
        {
          "output_type": "display_data",
          "data": {
            "text/plain": [
              "<Figure size 432x288 with 1 Axes>"
            ],
            "image/png": "[encoded data removed]"
          },
          "metadata": {
            "needs_background": "light"
          }
        }
      ],
      "source": [
        "plt.title(\"Courbe d'apprentissage\")\n",
        "plt.plot(range(5000),cost)\n",
        "print(cost)"
      ]
    },
    {
      "cell_type": "markdown",
      "source": [
        "# **3D**"
      ],
      "metadata": {
        "id": "iOD_-R0Wcw93"
      }
    },
    {
      "cell_type": "code",
      "source": [
        "import numpy as np \n",
        "import matplotlib.pyplot as plt \n",
        "import mpl_toolkits.mplot3d\n",
        "\n",
        "# defining all 3 axes\n",
        "nbIter = 1500\n",
        "x_ = np.zeros((nbIter+1))\n",
        "y_ = np.zeros((nbIter+1))\n",
        "\n",
        "theta = np.zeros((2, 1))\n",
        "\n",
        "for i in range(0,nbIter+1):\n",
        "  x_[i] = (theta[0])\n",
        "  y_[i] = (theta[1])\n",
        "  theta, cost ,cout = gradientDescent(X, y, theta, alpha, 1)\n",
        "\n",
        "x_ = x_[1:len(x_)]\n",
        "y_ = y_[1:len(y_)]\n",
        "\n",
        "x_ = np.array([x_[i] for i in range(0,1500,5)])\n",
        "y_ = np.array([y_[i] for i in range(0,1500,5)])\n",
        "\n",
        "x_grid = np.zeros((x_.shape[0],x_.shape[0]))\n",
        "y_grid = np.zeros((y_.shape[0],y_.shape[0]))\n",
        "z_grid = np.zeros((y_.shape[0],y_.shape[0]))\n",
        "\n",
        "for i in range(len(x_grid)):\n",
        "  for j in range(len(x_grid)):\n",
        "    x_grid[i][j] = x_[i]\n",
        "    y_grid[j][i] = y_[i]\n",
        "\n",
        "\n",
        "for i in range(len(x_grid)):\n",
        "  for j in range(len(x_grid)):\n",
        "    z_grid[i][j] = computeCost(X, y, [ x_grid[i][j] ,  y_grid[i][j] ])\n",
        "\n",
        "output = plt.subplot(111, projection = '3d')   # 3d projection\n",
        "output.view_init(30, 60)\n",
        "output.plot_surface(x_grid, y_grid, z_grid, rstride = 2, cstride = 2, cmap = plt.cm.Reds_r)\n",
        "output.set_xlabel('theta0')                         # axis label\n",
        "output.set_xlabel('theta1')\n",
        "output.set_xlabel('cout')\n",
        "plt.show()"
      ],
      "metadata": {
        "colab": {
          "base_uri": "https://localhost:8080/",
          "height": 328
        },
        "id": "mSCygX7HFVA0",
        "outputId": "0cb909ce-8e52-494c-8b7c-d1bbbb613929"
      },
      "execution_count": null,
      "outputs": [
        {
          "output_type": "error",
          "ename": "ValueError",
          "evalue": "ignored",
          "traceback": [
            "\u001b[0;31m---------------------------------------------------------------------------\u001b[0m",
            "\u001b[0;31mValueError\u001b[0m                                Traceback (most recent call last)",
            "\u001b[0;32m<ipython-input-26-88aa96e5e146>\u001b[0m in \u001b[0;36m<module>\u001b[0;34m()\u001b[0m\n\u001b[1;32m     13\u001b[0m   \u001b[0mx_\u001b[0m\u001b[0;34m[\u001b[0m\u001b[0mi\u001b[0m\u001b[0;34m]\u001b[0m \u001b[0;34m=\u001b[0m \u001b[0;34m(\u001b[0m\u001b[0mtheta\u001b[0m\u001b[0;34m[\u001b[0m\u001b[0;36m0\u001b[0m\u001b[0;34m]\u001b[0m\u001b[0;34m)\u001b[0m\u001b[0;34m\u001b[0m\u001b[0;34m\u001b[0m\u001b[0m\n\u001b[1;32m     14\u001b[0m   \u001b[0my_\u001b[0m\u001b[0;34m[\u001b[0m\u001b[0mi\u001b[0m\u001b[0;34m]\u001b[0m \u001b[0;34m=\u001b[0m \u001b[0;34m(\u001b[0m\u001b[0mtheta\u001b[0m\u001b[0;34m[\u001b[0m\u001b[0;36m1\u001b[0m\u001b[0;34m]\u001b[0m\u001b[0;34m)\u001b[0m\u001b[0;34m\u001b[0m\u001b[0;34m\u001b[0m\u001b[0m\n\u001b[0;32m---> 15\u001b[0;31m   \u001b[0mtheta\u001b[0m\u001b[0;34m,\u001b[0m \u001b[0mcost\u001b[0m \u001b[0;34m,\u001b[0m\u001b[0mcout\u001b[0m \u001b[0;34m=\u001b[0m \u001b[0mgradientDescent\u001b[0m\u001b[0;34m(\u001b[0m\u001b[0mX\u001b[0m\u001b[0;34m,\u001b[0m \u001b[0my\u001b[0m\u001b[0;34m,\u001b[0m \u001b[0mtheta\u001b[0m\u001b[0;34m,\u001b[0m \u001b[0malpha\u001b[0m\u001b[0;34m,\u001b[0m \u001b[0;36m1\u001b[0m\u001b[0;34m)\u001b[0m\u001b[0;34m\u001b[0m\u001b[0;34m\u001b[0m\u001b[0m\n\u001b[0m\u001b[1;32m     16\u001b[0m \u001b[0;34m\u001b[0m\u001b[0m\n\u001b[1;32m     17\u001b[0m \u001b[0mx_\u001b[0m \u001b[0;34m=\u001b[0m \u001b[0mx_\u001b[0m\u001b[0;34m[\u001b[0m\u001b[0;36m1\u001b[0m\u001b[0;34m:\u001b[0m\u001b[0mlen\u001b[0m\u001b[0;34m(\u001b[0m\u001b[0mx_\u001b[0m\u001b[0;34m)\u001b[0m\u001b[0;34m]\u001b[0m\u001b[0;34m\u001b[0m\u001b[0;34m\u001b[0m\u001b[0m\n",
            "\u001b[0;32m<ipython-input-22-1bdeb3fa8095>\u001b[0m in \u001b[0;36mgradientDescent\u001b[0;34m(X, y, theta, alpha, iterations)\u001b[0m\n\u001b[1;32m     12\u001b[0m     \u001b[0;32mfor\u001b[0m \u001b[0mi\u001b[0m \u001b[0;32min\u001b[0m \u001b[0mrange\u001b[0m\u001b[0;34m(\u001b[0m\u001b[0;36m0\u001b[0m\u001b[0;34m,\u001b[0m \u001b[0miterations\u001b[0m\u001b[0;34m)\u001b[0m\u001b[0;34m:\u001b[0m\u001b[0;34m\u001b[0m\u001b[0;34m\u001b[0m\u001b[0m\n\u001b[1;32m     13\u001b[0m \u001b[0;34m\u001b[0m\u001b[0m\n\u001b[0;32m---> 14\u001b[0;31m       \u001b[0mtheta\u001b[0m \u001b[0;34m=\u001b[0m \u001b[0mtheta\u001b[0m \u001b[0;34m-\u001b[0m \u001b[0malpha\u001b[0m \u001b[0;34m*\u001b[0m \u001b[0mgrad\u001b[0m\u001b[0;34m(\u001b[0m\u001b[0mX\u001b[0m\u001b[0;34m,\u001b[0m\u001b[0my\u001b[0m\u001b[0;34m,\u001b[0m\u001b[0mtheta\u001b[0m\u001b[0;34m)\u001b[0m\u001b[0;34m\u001b[0m\u001b[0;34m\u001b[0m\u001b[0m\n\u001b[0m\u001b[1;32m     15\u001b[0m \u001b[0;34m\u001b[0m\u001b[0m\n\u001b[1;32m     16\u001b[0m       \u001b[0mcost\u001b[0m\u001b[0;34m[\u001b[0m\u001b[0mi\u001b[0m\u001b[0;34m]\u001b[0m\u001b[0;34m=\u001b[0m \u001b[0mcomputeCost\u001b[0m\u001b[0;34m(\u001b[0m\u001b[0mX\u001b[0m\u001b[0;34m,\u001b[0m\u001b[0my\u001b[0m\u001b[0;34m,\u001b[0m\u001b[0mtheta\u001b[0m\u001b[0;34m)\u001b[0m\u001b[0;34m\u001b[0m\u001b[0;34m\u001b[0m\u001b[0m\n",
            "\u001b[0;32m<ipython-input-22-1bdeb3fa8095>\u001b[0m in \u001b[0;36mgrad\u001b[0;34m(X, y, theta)\u001b[0m\n\u001b[1;32m      2\u001b[0m \u001b[0;32mdef\u001b[0m \u001b[0mgrad\u001b[0m\u001b[0;34m(\u001b[0m\u001b[0mX\u001b[0m\u001b[0;34m,\u001b[0m \u001b[0my\u001b[0m\u001b[0;34m,\u001b[0m \u001b[0mtheta\u001b[0m\u001b[0;34m)\u001b[0m\u001b[0;34m:\u001b[0m\u001b[0;34m\u001b[0m\u001b[0;34m\u001b[0m\u001b[0m\n\u001b[1;32m      3\u001b[0m   \u001b[0mm\u001b[0m\u001b[0;34m=\u001b[0m\u001b[0mlen\u001b[0m\u001b[0;34m(\u001b[0m\u001b[0my\u001b[0m\u001b[0;34m)\u001b[0m\u001b[0;34m\u001b[0m\u001b[0;34m\u001b[0m\u001b[0m\n\u001b[0;32m----> 4\u001b[0;31m   \u001b[0mz\u001b[0m \u001b[0;34m=\u001b[0m \u001b[0mmodel\u001b[0m\u001b[0;34m(\u001b[0m\u001b[0mX\u001b[0m\u001b[0;34m,\u001b[0m\u001b[0mtheta\u001b[0m\u001b[0;34m)\u001b[0m\u001b[0;34m\u001b[0m\u001b[0;34m\u001b[0m\u001b[0m\n\u001b[0m\u001b[1;32m      5\u001b[0m   \u001b[0;32mreturn\u001b[0m \u001b[0;36m1\u001b[0m\u001b[0;34m/\u001b[0m\u001b[0mm\u001b[0m \u001b[0;34m*\u001b[0m \u001b[0mX\u001b[0m\u001b[0;34m.\u001b[0m\u001b[0mT\u001b[0m\u001b[0;34m.\u001b[0m\u001b[0mdot\u001b[0m\u001b[0;34m(\u001b[0m\u001b[0mSigmoid\u001b[0m\u001b[0;34m(\u001b[0m\u001b[0mz\u001b[0m\u001b[0;34m)\u001b[0m\u001b[0;34m-\u001b[0m\u001b[0my\u001b[0m\u001b[0;34m)\u001b[0m\u001b[0;34m\u001b[0m\u001b[0;34m\u001b[0m\u001b[0m\n\u001b[1;32m      6\u001b[0m \u001b[0;34m\u001b[0m\u001b[0m\n",
            "\u001b[0;32m<ipython-input-9-814ec42ca7c0>\u001b[0m in \u001b[0;36mmodel\u001b[0;34m(X, theta)\u001b[0m\n\u001b[1;32m      1\u001b[0m \u001b[0;32mdef\u001b[0m \u001b[0mmodel\u001b[0m\u001b[0;34m(\u001b[0m\u001b[0mX\u001b[0m\u001b[0;34m,\u001b[0m\u001b[0mtheta\u001b[0m\u001b[0;34m)\u001b[0m\u001b[0;34m:\u001b[0m\u001b[0;34m\u001b[0m\u001b[0;34m\u001b[0m\u001b[0m\n\u001b[0;32m----> 2\u001b[0;31m   \u001b[0;32mreturn\u001b[0m \u001b[0mX\u001b[0m\u001b[0;34m.\u001b[0m\u001b[0mdot\u001b[0m\u001b[0;34m(\u001b[0m\u001b[0mtheta\u001b[0m\u001b[0;34m)\u001b[0m\u001b[0;34m\u001b[0m\u001b[0;34m\u001b[0m\u001b[0m\n\u001b[0m",
            "\u001b[0;31mValueError\u001b[0m: shapes (100,3) and (2,1) not aligned: 3 (dim 1) != 2 (dim 0)"
          ]
        }
      ]
    },
    {
      "cell_type": "code",
      "source": [
        "import numpy as np \n",
        "import matplotlib.pyplot as plt \n",
        "import mpl_toolkits.mplot3d\n",
        "\n",
        "# defining all 3 axes\n",
        "nbIter = 1500\n",
        "x_ = np.zeros((nbIter+1))\n",
        "y_ = np.zeros((nbIter+1))\n",
        "\n",
        "theta = np.zeros((2, 1))\n",
        "\n",
        "for i in range(0,nbIter+1):\n",
        "  x_[i] = (theta[0])\n",
        "  y_[i] = (theta[1])\n",
        "  theta, cost ,cout = gradientDescent(X, y, theta, alpha, 1)\n",
        "\n",
        "x_ = x_[1:len(x_)]\n",
        "y_ = y_[1:len(y_)]\n",
        "\n",
        "x_ = np.array([x_[i] for i in range(0,1500,5)])\n",
        "y_ = np.array([y_[i] for i in range(0,1500,5)])\n",
        "\n",
        "x_grid = np.zeros((x_.shape[0],x_.shape[0]))\n",
        "y_grid = np.zeros((y_.shape[0],y_.shape[0]))\n",
        "z_grid = np.zeros((y_.shape[0],y_.shape[0]))\n",
        "\n",
        "for i in range(len(x_grid)):\n",
        "  for j in range(len(x_grid)):\n",
        "    x_grid[i][j] = x_[i]\n",
        "    y_grid[j][i] = y_[i]\n",
        "\n",
        "\n",
        "for i in range(len(x_grid)):\n",
        "  for j in range(len(x_grid)):\n",
        "    z_grid[i][j] = computeCost(X, y, [ x_grid[i][j] ,  y_grid[i][j] ])\n",
        "\n",
        "output = plt.subplot(111, projection = '3d')   # 3d projection\n",
        "output.view_init(30, 60)\n",
        "output.plot_surface(x_grid, y_grid, z_grid, rstride = 2, cstride = 2, cmap = plt.cm.Reds_r)\n",
        "output.set_xlabel('theta0')                         # axis label\n",
        "output.set_xlabel('theta1')\n",
        "output.set_xlabel('cout')\n",
        "plt.show()"
      ],
      "metadata": {
        "colab": {
          "base_uri": "https://localhost:8080/",
          "height": 328
        },
        "id": "G_cC0te1_beP",
        "outputId": "36e7e262-1193-4461-e46f-31513d9aca83"
      },
      "execution_count": null,
      "outputs": [
        {
          "output_type": "error",
          "ename": "ValueError",
          "evalue": "ignored",
          "traceback": [
            "\u001b[0;31m---------------------------------------------------------------------------\u001b[0m",
            "\u001b[0;31mValueError\u001b[0m                                Traceback (most recent call last)",
            "\u001b[0;32m<ipython-input-25-88aa96e5e146>\u001b[0m in \u001b[0;36m<module>\u001b[0;34m()\u001b[0m\n\u001b[1;32m     13\u001b[0m   \u001b[0mx_\u001b[0m\u001b[0;34m[\u001b[0m\u001b[0mi\u001b[0m\u001b[0;34m]\u001b[0m \u001b[0;34m=\u001b[0m \u001b[0;34m(\u001b[0m\u001b[0mtheta\u001b[0m\u001b[0;34m[\u001b[0m\u001b[0;36m0\u001b[0m\u001b[0;34m]\u001b[0m\u001b[0;34m)\u001b[0m\u001b[0;34m\u001b[0m\u001b[0;34m\u001b[0m\u001b[0m\n\u001b[1;32m     14\u001b[0m   \u001b[0my_\u001b[0m\u001b[0;34m[\u001b[0m\u001b[0mi\u001b[0m\u001b[0;34m]\u001b[0m \u001b[0;34m=\u001b[0m \u001b[0;34m(\u001b[0m\u001b[0mtheta\u001b[0m\u001b[0;34m[\u001b[0m\u001b[0;36m1\u001b[0m\u001b[0;34m]\u001b[0m\u001b[0;34m)\u001b[0m\u001b[0;34m\u001b[0m\u001b[0;34m\u001b[0m\u001b[0m\n\u001b[0;32m---> 15\u001b[0;31m   \u001b[0mtheta\u001b[0m\u001b[0;34m,\u001b[0m \u001b[0mcost\u001b[0m \u001b[0;34m,\u001b[0m\u001b[0mcout\u001b[0m \u001b[0;34m=\u001b[0m \u001b[0mgradientDescent\u001b[0m\u001b[0;34m(\u001b[0m\u001b[0mX\u001b[0m\u001b[0;34m,\u001b[0m \u001b[0my\u001b[0m\u001b[0;34m,\u001b[0m \u001b[0mtheta\u001b[0m\u001b[0;34m,\u001b[0m \u001b[0malpha\u001b[0m\u001b[0;34m,\u001b[0m \u001b[0;36m1\u001b[0m\u001b[0;34m)\u001b[0m\u001b[0;34m\u001b[0m\u001b[0;34m\u001b[0m\u001b[0m\n\u001b[0m\u001b[1;32m     16\u001b[0m \u001b[0;34m\u001b[0m\u001b[0m\n\u001b[1;32m     17\u001b[0m \u001b[0mx_\u001b[0m \u001b[0;34m=\u001b[0m \u001b[0mx_\u001b[0m\u001b[0;34m[\u001b[0m\u001b[0;36m1\u001b[0m\u001b[0;34m:\u001b[0m\u001b[0mlen\u001b[0m\u001b[0;34m(\u001b[0m\u001b[0mx_\u001b[0m\u001b[0;34m)\u001b[0m\u001b[0;34m]\u001b[0m\u001b[0;34m\u001b[0m\u001b[0;34m\u001b[0m\u001b[0m\n",
            "\u001b[0;32m<ipython-input-22-1bdeb3fa8095>\u001b[0m in \u001b[0;36mgradientDescent\u001b[0;34m(X, y, theta, alpha, iterations)\u001b[0m\n\u001b[1;32m     12\u001b[0m     \u001b[0;32mfor\u001b[0m \u001b[0mi\u001b[0m \u001b[0;32min\u001b[0m \u001b[0mrange\u001b[0m\u001b[0;34m(\u001b[0m\u001b[0;36m0\u001b[0m\u001b[0;34m,\u001b[0m \u001b[0miterations\u001b[0m\u001b[0;34m)\u001b[0m\u001b[0;34m:\u001b[0m\u001b[0;34m\u001b[0m\u001b[0;34m\u001b[0m\u001b[0m\n\u001b[1;32m     13\u001b[0m \u001b[0;34m\u001b[0m\u001b[0m\n\u001b[0;32m---> 14\u001b[0;31m       \u001b[0mtheta\u001b[0m \u001b[0;34m=\u001b[0m \u001b[0mtheta\u001b[0m \u001b[0;34m-\u001b[0m \u001b[0malpha\u001b[0m \u001b[0;34m*\u001b[0m \u001b[0mgrad\u001b[0m\u001b[0;34m(\u001b[0m\u001b[0mX\u001b[0m\u001b[0;34m,\u001b[0m\u001b[0my\u001b[0m\u001b[0;34m,\u001b[0m\u001b[0mtheta\u001b[0m\u001b[0;34m)\u001b[0m\u001b[0;34m\u001b[0m\u001b[0;34m\u001b[0m\u001b[0m\n\u001b[0m\u001b[1;32m     15\u001b[0m \u001b[0;34m\u001b[0m\u001b[0m\n\u001b[1;32m     16\u001b[0m       \u001b[0mcost\u001b[0m\u001b[0;34m[\u001b[0m\u001b[0mi\u001b[0m\u001b[0;34m]\u001b[0m\u001b[0;34m=\u001b[0m \u001b[0mcomputeCost\u001b[0m\u001b[0;34m(\u001b[0m\u001b[0mX\u001b[0m\u001b[0;34m,\u001b[0m\u001b[0my\u001b[0m\u001b[0;34m,\u001b[0m\u001b[0mtheta\u001b[0m\u001b[0;34m)\u001b[0m\u001b[0;34m\u001b[0m\u001b[0;34m\u001b[0m\u001b[0m\n",
            "\u001b[0;32m<ipython-input-22-1bdeb3fa8095>\u001b[0m in \u001b[0;36mgrad\u001b[0;34m(X, y, theta)\u001b[0m\n\u001b[1;32m      2\u001b[0m \u001b[0;32mdef\u001b[0m \u001b[0mgrad\u001b[0m\u001b[0;34m(\u001b[0m\u001b[0mX\u001b[0m\u001b[0;34m,\u001b[0m \u001b[0my\u001b[0m\u001b[0;34m,\u001b[0m \u001b[0mtheta\u001b[0m\u001b[0;34m)\u001b[0m\u001b[0;34m:\u001b[0m\u001b[0;34m\u001b[0m\u001b[0;34m\u001b[0m\u001b[0m\n\u001b[1;32m      3\u001b[0m   \u001b[0mm\u001b[0m\u001b[0;34m=\u001b[0m\u001b[0mlen\u001b[0m\u001b[0;34m(\u001b[0m\u001b[0my\u001b[0m\u001b[0;34m)\u001b[0m\u001b[0;34m\u001b[0m\u001b[0;34m\u001b[0m\u001b[0m\n\u001b[0;32m----> 4\u001b[0;31m   \u001b[0mz\u001b[0m \u001b[0;34m=\u001b[0m \u001b[0mmodel\u001b[0m\u001b[0;34m(\u001b[0m\u001b[0mX\u001b[0m\u001b[0;34m,\u001b[0m\u001b[0mtheta\u001b[0m\u001b[0;34m)\u001b[0m\u001b[0;34m\u001b[0m\u001b[0;34m\u001b[0m\u001b[0m\n\u001b[0m\u001b[1;32m      5\u001b[0m   \u001b[0;32mreturn\u001b[0m \u001b[0;36m1\u001b[0m\u001b[0;34m/\u001b[0m\u001b[0mm\u001b[0m \u001b[0;34m*\u001b[0m \u001b[0mX\u001b[0m\u001b[0;34m.\u001b[0m\u001b[0mT\u001b[0m\u001b[0;34m.\u001b[0m\u001b[0mdot\u001b[0m\u001b[0;34m(\u001b[0m\u001b[0mSigmoid\u001b[0m\u001b[0;34m(\u001b[0m\u001b[0mz\u001b[0m\u001b[0;34m)\u001b[0m\u001b[0;34m-\u001b[0m\u001b[0my\u001b[0m\u001b[0;34m)\u001b[0m\u001b[0;34m\u001b[0m\u001b[0;34m\u001b[0m\u001b[0m\n\u001b[1;32m      6\u001b[0m \u001b[0;34m\u001b[0m\u001b[0m\n",
            "\u001b[0;32m<ipython-input-9-814ec42ca7c0>\u001b[0m in \u001b[0;36mmodel\u001b[0;34m(X, theta)\u001b[0m\n\u001b[1;32m      1\u001b[0m \u001b[0;32mdef\u001b[0m \u001b[0mmodel\u001b[0m\u001b[0;34m(\u001b[0m\u001b[0mX\u001b[0m\u001b[0;34m,\u001b[0m\u001b[0mtheta\u001b[0m\u001b[0;34m)\u001b[0m\u001b[0;34m:\u001b[0m\u001b[0;34m\u001b[0m\u001b[0;34m\u001b[0m\u001b[0m\n\u001b[0;32m----> 2\u001b[0;31m   \u001b[0;32mreturn\u001b[0m \u001b[0mX\u001b[0m\u001b[0;34m.\u001b[0m\u001b[0mdot\u001b[0m\u001b[0;34m(\u001b[0m\u001b[0mtheta\u001b[0m\u001b[0;34m)\u001b[0m\u001b[0;34m\u001b[0m\u001b[0;34m\u001b[0m\u001b[0m\n\u001b[0m",
            "\u001b[0;31mValueError\u001b[0m: shapes (100,3) and (2,1) not aligned: 3 (dim 1) != 2 (dim 0)"
          ]
        }
      ]
    },
    {
      "cell_type": "code",
      "source": [
        "# The function J\n",
        "def J(theta0, theta1, x, y, m):\n",
        "    J = 0\n",
        "    for i in range(m):\n",
        "        J += ((theta0 + theta1*x[i]) - y[i] )**2\n",
        "    return J\n"
      ],
      "metadata": {
        "id": "XqeZhYbKTg4r"
      },
      "execution_count": null,
      "outputs": []
    },
    {
      "cell_type": "code",
      "source": [
        "a = np.linspace(-13,14.5,100)\n",
        "plt.plot(a, J(0.1,a,X[:,1],y,m=len(X)) ) "
      ],
      "metadata": {
        "colab": {
          "base_uri": "https://localhost:8080/",
          "height": 293
        },
        "id": "JR7dQkGATl9t",
        "outputId": "a409add5-61ef-4e08-c07d-5a25969885f4"
      },
      "execution_count": null,
      "outputs": [
        {
          "output_type": "execute_result",
          "data": {
            "text/plain": [
              "[<matplotlib.lines.Line2D at 0x7f75c832db90>]"
            ]
          },
          "metadata": {},
          "execution_count": 28
        },
        {
          "output_type": "display_data",
          "data": {
            "text/plain": [
              "<Figure size 432x288 with 1 Axes>"
            ],
            "image/png": "[encoded data removed]"
          },
          "metadata": {
            "needs_background": "light"
          }
        }
      ]
    },
    {
      "cell_type": "code",
      "source": [
        "a0 = np.linspace(-3000,3000, 100)\n",
        "a1 = np.linspace(-300,300, 100)\n",
        "aa0, aa1 = np.meshgrid(a0, a1)\n",
        "plt.contour(aa0,aa1,0.00000001*J(aa0,aa1,X[:,1],y,m=len(X)) , colors='C0', levels=[i for i in np.arange(0,800,1)])"
      ],
      "metadata": {
        "colab": {
          "base_uri": "https://localhost:8080/",
          "height": 286
        },
        "id": "YyPGaWgcTtej",
        "outputId": "5fc6e7ed-6442-417f-db2e-58d8c540f271"
      },
      "execution_count": null,
      "outputs": [
        {
          "output_type": "execute_result",
          "data": {
            "text/plain": [
              "<matplotlib.contour.QuadContourSet at 0x7f75c8286f90>"
            ]
          },
          "metadata": {},
          "execution_count": 29
        },
        {
          "output_type": "display_data",
          "data": {
            "text/plain": [
              "<Figure size 432x288 with 1 Axes>"
            ],
            "image/png": "[encoded data removed]"
          },
          "metadata": {
            "needs_background": "light"
          }
        }
      ]
    },
    {
      "cell_type": "markdown",
      "metadata": {
        "id": "2VZ9MGMnf2fC"
      },
      "source": [
        "Prédire des valeurs de y"
      ]
    },
    {
      "cell_type": "code",
      "source": [
        "#fonction qui calcule le score coeficient de determination \n",
        "def evaluation(y,y_pred):\n",
        "  u = ((y-y_pred)**2).sum()\n",
        "  v= ((y-y.mean())**2).sum()\n",
        "  return 1- u/v\n",
        "evaluation(y,y_pred)"
      ],
      "metadata": {
        "colab": {
          "base_uri": "https://localhost:8080/"
        },
        "id": "ZPcaBYFxOJmm",
        "outputId": "3532503e-2147-4ee7-fa52-f681e5f0b353"
      },
      "execution_count": null,
      "outputs": [
        {
          "output_type": "execute_result",
          "data": {
            "text/plain": [
              "0.7020315523859602"
            ]
          },
          "metadata": {},
          "execution_count": 18
        }
      ]
    },
    {
      "cell_type": "code",
      "source": [
        "theta_"
      ],
      "metadata": {
        "colab": {
          "base_uri": "https://localhost:8080/"
        },
        "id": "x9ytmf67BG8p",
        "outputId": "9d06a779-e5eb-4388-b4b1-ba0031177a10"
      },
      "execution_count": null,
      "outputs": [
        {
          "output_type": "execute_result",
          "data": {
            "text/plain": [
              "array([[-3.89530051],\n",
              "       [ 1.19298539]])"
            ]
          },
          "metadata": {},
          "execution_count": 19
        }
      ]
    },
    {
      "cell_type": "code",
      "execution_count": null,
      "metadata": {
        "id": "2vaMZaA0f2fC",
        "outputId": "df9606cb-ccd7-4970-d35c-1d294a1fa096",
        "colab": {
          "base_uri": "https://localhost:8080/"
        }
      },
      "outputs": [
        {
          "output_type": "execute_result",
          "data": {
            "text/plain": [
              "array([0.28014834])"
            ]
          },
          "metadata": {},
          "execution_count": 20
        }
      ],
      "source": [
        "# Predire pour une opulation = 35,000 et 70,000\n",
        "predict1 = np.matmul([1, 3.5],theta_);\n",
        "predict1\n"
      ]
    },
    {
      "cell_type": "code",
      "execution_count": null,
      "metadata": {
        "id": "1rQhJ7bEf2fC",
        "outputId": "9cafa9d3-e5e8-457a-c706-4657b9bc149a",
        "colab": {
          "base_uri": "https://localhost:8080/"
        }
      },
      "outputs": [
        {
          "output_type": "execute_result",
          "data": {
            "text/plain": [
              "array([4.45559719])"
            ]
          },
          "metadata": {},
          "execution_count": 21
        }
      ],
      "source": [
        "predict2 = np.matmul([1, 7],theta_);\n",
        "predict2"
      ]
    },
    {
      "cell_type": "markdown",
      "metadata": {
        "id": "_nksg6iNf2fC"
      },
      "source": [
        "# Régression linéaire à plusieurs variables"
      ]
    },
    {
      "cell_type": "markdown",
      "metadata": {
        "id": "_8j0lTWkf2fC"
      },
      "source": [
        "Proposer, l'aide des fonctions définies precedemment, une regression linéaire lorsque le nombre de descripeurs est supérieur à 1, en utilisant la base d'apprentissage suivante"
      ]
    },
    {
      "cell_type": "code",
      "execution_count": null,
      "metadata": {
        "id": "kSNx25FIf2fC",
        "colab": {
          "base_uri": "https://localhost:8080/",
          "height": 1000
        },
        "outputId": "56d15afd-0ea9-44a4-a1e7-822eb0d9f237"
      },
      "outputs": [
        {
          "output_type": "execute_result",
          "data": {
            "text/plain": [
              "         0    1         2\n",
              "0   2104.0  3.0  399900.0\n",
              "1   1600.0  3.0  329900.0\n",
              "2   2400.0  3.0  369000.0\n",
              "3   1416.0  2.0  232000.0\n",
              "4   3000.0  4.0  539900.0\n",
              "5   1985.0  4.0  299900.0\n",
              "6   1534.0  3.0  314900.0\n",
              "7   1427.0  3.0  199000.0\n",
              "8   1380.0  3.0  212000.0\n",
              "9   1494.0  3.0  242500.0\n",
              "10  1940.0  4.0  240000.0\n",
              "11  2000.0  3.0  347000.0\n",
              "12  1890.0  3.0  330000.0\n",
              "13  4478.0  5.0  699900.0\n",
              "14  1268.0  3.0  259900.0\n",
              "15  2300.0  4.0  449900.0\n",
              "16  1320.0  2.0  299900.0\n",
              "17  1236.0  3.0  199900.0\n",
              "18  2609.0  4.0  500000.0\n",
              "19  3031.0  4.0  599000.0\n",
              "20  1767.0  3.0  252900.0\n",
              "21  1888.0  2.0  255000.0\n",
              "22  1604.0  3.0  242900.0\n",
              "23  1962.0  4.0  259900.0\n",
              "24  3890.0  3.0  573900.0\n",
              "25  1100.0  3.0  249900.0\n",
              "26  1458.0  3.0  464500.0\n",
              "27  2526.0  3.0  469000.0\n",
              "28  2200.0  3.0  475000.0\n",
              "29  2637.0  3.0  299900.0\n",
              "30  1839.0  2.0  349900.0\n",
              "31  1000.0  1.0  169900.0\n",
              "32  2040.0  4.0  314900.0\n",
              "33  3137.0  3.0  579900.0\n",
              "34  1811.0  4.0  285900.0\n",
              "35  1437.0  3.0  249900.0\n",
              "36  1239.0  3.0  229900.0\n",
              "37  2132.0  4.0  345000.0\n",
              "38  4215.0  4.0  549000.0\n",
              "39  2162.0  4.0  287000.0\n",
              "40  1664.0  2.0  368500.0\n",
              "41  2238.0  3.0  329900.0\n",
              "42  2567.0  4.0  314000.0\n",
              "43  1200.0  3.0  299000.0\n",
              "44   852.0  2.0  179900.0\n",
              "45  1852.0  4.0  299900.0\n",
              "46  1203.0  3.0  239500.0"
            ],
            "text/html": [
              "\n",
              "  <div id=\"df-dff9d174-b5be-4b3e-a87f-7cd2fed53aa0\">\n",
              "    <div class=\"colab-df-container\">\n",
              "      <div>\n",
              "<style scoped>\n",
              "    .dataframe tbody tr th:only-of-type {\n",
              "        vertical-align: middle;\n",
              "    }\n",
              "\n",
              "    .dataframe tbody tr th {\n",
              "        vertical-align: top;\n",
              "    }\n",
              "\n",
              "    .dataframe thead th {\n",
              "        text-align: right;\n",
              "    }\n",
              "</style>\n",
              "<table border=\"1\" class=\"dataframe\">\n",
              "  <thead>\n",
              "    <tr style=\"text-align: right;\">\n",
              "      <th></th>\n",
              "      <th>0</th>\n",
              "      <th>1</th>\n",
              "      <th>2</th>\n",
              "    </tr>\n",
              "  </thead>\n",
              "  <tbody>\n",
              "    <tr>\n",
              "      <th>0</th>\n",
              "      <td>2104.0</td>\n",
              "      <td>3.0</td>\n",
              "      <td>399900.0</td>\n",
              "    </tr>\n",
              "    <tr>\n",
              "      <th>1</th>\n",
              "      <td>1600.0</td>\n",
              "      <td>3.0</td>\n",
              "      <td>329900.0</td>\n",
              "    </tr>\n",
              "    <tr>\n",
              "      <th>2</th>\n",
              "      <td>2400.0</td>\n",
              "      <td>3.0</td>\n",
              "      <td>369000.0</td>\n",
              "    </tr>\n",
              "    <tr>\n",
              "      <th>3</th>\n",
              "      <td>1416.0</td>\n",
              "      <td>2.0</td>\n",
              "      <td>232000.0</td>\n",
              "    </tr>\n",
              "    <tr>\n",
              "      <th>4</th>\n",
              "      <td>3000.0</td>\n",
              "      <td>4.0</td>\n",
              "      <td>539900.0</td>\n",
              "    </tr>\n",
              "    <tr>\n",
              "      <th>5</th>\n",
              "      <td>1985.0</td>\n",
              "      <td>4.0</td>\n",
              "      <td>299900.0</td>\n",
              "    </tr>\n",
              "    <tr>\n",
              "      <th>6</th>\n",
              "      <td>1534.0</td>\n",
              "      <td>3.0</td>\n",
              "      <td>314900.0</td>\n",
              "    </tr>\n",
              "    <tr>\n",
              "      <th>7</th>\n",
              "      <td>1427.0</td>\n",
              "      <td>3.0</td>\n",
              "      <td>199000.0</td>\n",
              "    </tr>\n",
              "    <tr>\n",
              "      <th>8</th>\n",
              "      <td>1380.0</td>\n",
              "      <td>3.0</td>\n",
              "      <td>212000.0</td>\n",
              "    </tr>\n",
              "    <tr>\n",
              "      <th>9</th>\n",
              "      <td>1494.0</td>\n",
              "      <td>3.0</td>\n",
              "      <td>242500.0</td>\n",
              "    </tr>\n",
              "    <tr>\n",
              "      <th>10</th>\n",
              "      <td>1940.0</td>\n",
              "      <td>4.0</td>\n",
              "      <td>240000.0</td>\n",
              "    </tr>\n",
              "    <tr>\n",
              "      <th>11</th>\n",
              "      <td>2000.0</td>\n",
              "      <td>3.0</td>\n",
              "      <td>347000.0</td>\n",
              "    </tr>\n",
              "    <tr>\n",
              "      <th>12</th>\n",
              "      <td>1890.0</td>\n",
              "      <td>3.0</td>\n",
              "      <td>330000.0</td>\n",
              "    </tr>\n",
              "    <tr>\n",
              "      <th>13</th>\n",
              "      <td>4478.0</td>\n",
              "      <td>5.0</td>\n",
              "      <td>699900.0</td>\n",
              "    </tr>\n",
              "    <tr>\n",
              "      <th>14</th>\n",
              "      <td>1268.0</td>\n",
              "      <td>3.0</td>\n",
              "      <td>259900.0</td>\n",
              "    </tr>\n",
              "    <tr>\n",
              "      <th>15</th>\n",
              "      <td>2300.0</td>\n",
              "      <td>4.0</td>\n",
              "      <td>449900.0</td>\n",
              "    </tr>\n",
              "    <tr>\n",
              "      <th>16</th>\n",
              "      <td>1320.0</td>\n",
              "      <td>2.0</td>\n",
              "      <td>299900.0</td>\n",
              "    </tr>\n",
              "    <tr>\n",
              "      <th>17</th>\n",
              "      <td>1236.0</td>\n",
              "      <td>3.0</td>\n",
              "      <td>199900.0</td>\n",
              "    </tr>\n",
              "    <tr>\n",
              "      <th>18</th>\n",
              "      <td>2609.0</td>\n",
              "      <td>4.0</td>\n",
              "      <td>500000.0</td>\n",
              "    </tr>\n",
              "    <tr>\n",
              "      <th>19</th>\n",
              "      <td>3031.0</td>\n",
              "      <td>4.0</td>\n",
              "      <td>599000.0</td>\n",
              "    </tr>\n",
              "    <tr>\n",
              "      <th>20</th>\n",
              "      <td>1767.0</td>\n",
              "      <td>3.0</td>\n",
              "      <td>252900.0</td>\n",
              "    </tr>\n",
              "    <tr>\n",
              "      <th>21</th>\n",
              "      <td>1888.0</td>\n",
              "      <td>2.0</td>\n",
              "      <td>255000.0</td>\n",
              "    </tr>\n",
              "    <tr>\n",
              "      <th>22</th>\n",
              "      <td>1604.0</td>\n",
              "      <td>3.0</td>\n",
              "      <td>242900.0</td>\n",
              "    </tr>\n",
              "    <tr>\n",
              "      <th>23</th>\n",
              "      <td>1962.0</td>\n",
              "      <td>4.0</td>\n",
              "      <td>259900.0</td>\n",
              "    </tr>\n",
              "    <tr>\n",
              "      <th>24</th>\n",
              "      <td>3890.0</td>\n",
              "      <td>3.0</td>\n",
              "      <td>573900.0</td>\n",
              "    </tr>\n",
              "    <tr>\n",
              "      <th>25</th>\n",
              "      <td>1100.0</td>\n",
              "      <td>3.0</td>\n",
              "      <td>249900.0</td>\n",
              "    </tr>\n",
              "    <tr>\n",
              "      <th>26</th>\n",
              "      <td>1458.0</td>\n",
              "      <td>3.0</td>\n",
              "      <td>464500.0</td>\n",
              "    </tr>\n",
              "    <tr>\n",
              "      <th>27</th>\n",
              "      <td>2526.0</td>\n",
              "      <td>3.0</td>\n",
              "      <td>469000.0</td>\n",
              "    </tr>\n",
              "    <tr>\n",
              "      <th>28</th>\n",
              "      <td>2200.0</td>\n",
              "      <td>3.0</td>\n",
              "      <td>475000.0</td>\n",
              "    </tr>\n",
              "    <tr>\n",
              "      <th>29</th>\n",
              "      <td>2637.0</td>\n",
              "      <td>3.0</td>\n",
              "      <td>299900.0</td>\n",
              "    </tr>\n",
              "    <tr>\n",
              "      <th>30</th>\n",
              "      <td>1839.0</td>\n",
              "      <td>2.0</td>\n",
              "      <td>349900.0</td>\n",
              "    </tr>\n",
              "    <tr>\n",
              "      <th>31</th>\n",
              "      <td>1000.0</td>\n",
              "      <td>1.0</td>\n",
              "      <td>169900.0</td>\n",
              "    </tr>\n",
              "    <tr>\n",
              "      <th>32</th>\n",
              "      <td>2040.0</td>\n",
              "      <td>4.0</td>\n",
              "      <td>314900.0</td>\n",
              "    </tr>\n",
              "    <tr>\n",
              "      <th>33</th>\n",
              "      <td>3137.0</td>\n",
              "      <td>3.0</td>\n",
              "      <td>579900.0</td>\n",
              "    </tr>\n",
              "    <tr>\n",
              "      <th>34</th>\n",
              "      <td>1811.0</td>\n",
              "      <td>4.0</td>\n",
              "      <td>285900.0</td>\n",
              "    </tr>\n",
              "    <tr>\n",
              "      <th>35</th>\n",
              "      <td>1437.0</td>\n",
              "      <td>3.0</td>\n",
              "      <td>249900.0</td>\n",
              "    </tr>\n",
              "    <tr>\n",
              "      <th>36</th>\n",
              "      <td>1239.0</td>\n",
              "      <td>3.0</td>\n",
              "      <td>229900.0</td>\n",
              "    </tr>\n",
              "    <tr>\n",
              "      <th>37</th>\n",
              "      <td>2132.0</td>\n",
              "      <td>4.0</td>\n",
              "      <td>345000.0</td>\n",
              "    </tr>\n",
              "    <tr>\n",
              "      <th>38</th>\n",
              "      <td>4215.0</td>\n",
              "      <td>4.0</td>\n",
              "      <td>549000.0</td>\n",
              "    </tr>\n",
              "    <tr>\n",
              "      <th>39</th>\n",
              "      <td>2162.0</td>\n",
              "      <td>4.0</td>\n",
              "      <td>287000.0</td>\n",
              "    </tr>\n",
              "    <tr>\n",
              "      <th>40</th>\n",
              "      <td>1664.0</td>\n",
              "      <td>2.0</td>\n",
              "      <td>368500.0</td>\n",
              "    </tr>\n",
              "    <tr>\n",
              "      <th>41</th>\n",
              "      <td>2238.0</td>\n",
              "      <td>3.0</td>\n",
              "      <td>329900.0</td>\n",
              "    </tr>\n",
              "    <tr>\n",
              "      <th>42</th>\n",
              "      <td>2567.0</td>\n",
              "      <td>4.0</td>\n",
              "      <td>314000.0</td>\n",
              "    </tr>\n",
              "    <tr>\n",
              "      <th>43</th>\n",
              "      <td>1200.0</td>\n",
              "      <td>3.0</td>\n",
              "      <td>299000.0</td>\n",
              "    </tr>\n",
              "    <tr>\n",
              "      <th>44</th>\n",
              "      <td>852.0</td>\n",
              "      <td>2.0</td>\n",
              "      <td>179900.0</td>\n",
              "    </tr>\n",
              "    <tr>\n",
              "      <th>45</th>\n",
              "      <td>1852.0</td>\n",
              "      <td>4.0</td>\n",
              "      <td>299900.0</td>\n",
              "    </tr>\n",
              "    <tr>\n",
              "      <th>46</th>\n",
              "      <td>1203.0</td>\n",
              "      <td>3.0</td>\n",
              "      <td>239500.0</td>\n",
              "    </tr>\n",
              "  </tbody>\n",
              "</table>\n",
              "</div>\n",
              "      <button class=\"colab-df-convert\" onclick=\"convertToInteractive('df-dff9d174-b5be-4b3e-a87f-7cd2fed53aa0')\"\n",
              "              title=\"Convert this dataframe to an interactive table.\"\n",
              "              style=\"display:none;\">\n",
              "        \n",
              "  <svg xmlns=\"http://www.w3.org/2000/svg\" height=\"24px\"viewBox=\"0 0 24 24\"\n",
              "       width=\"24px\">\n",
              "    <path d=\"M0 0h24v24H0V0z\" fill=\"none\"/>\n",
              "    <path d=\"M18.56 5.44l.94 2.06.94-2.06 2.06-.94-2.06-.94-.94-2.06-.94 2.06-2.06.94zm-11 1L8.5 8.5l.94-2.06 2.06-.94-2.06-.94L8.5 2.5l-.94 2.06-2.06.94zm10 10l.94 2.06.94-2.06 2.06-.94-2.06-.94-.94-2.06-.94 2.06-2.06.94z\"/><path d=\"M17.41 7.96l-1.37-1.37c-.4-.4-.92-.59-1.43-.59-.52 0-1.04.2-1.43.59L10.3 9.45l-7.72 7.72c-.78.78-.78 2.05 0 2.83L4 21.41c.39.39.9.59 1.41.59.51 0 1.02-.2 1.41-.59l7.78-7.78 2.81-2.81c.8-.78.8-2.07 0-2.86zM5.41 20L4 18.59l7.72-7.72 1.47 1.35L5.41 20z\"/>\n",
              "  </svg>\n",
              "      </button>\n",
              "      \n",
              "  <style>\n",
              "    .colab-df-container {\n",
              "      display:flex;\n",
              "      flex-wrap:wrap;\n",
              "      gap: 12px;\n",
              "    }\n",
              "\n",
              "    .colab-df-convert {\n",
              "      background-color: #E8F0FE;\n",
              "      border: none;\n",
              "      border-radius: 50%;\n",
              "      cursor: pointer;\n",
              "      display: none;\n",
              "      fill: #1967D2;\n",
              "      height: 32px;\n",
              "      padding: 0 0 0 0;\n",
              "      width: 32px;\n",
              "    }\n",
              "\n",
              "    .colab-df-convert:hover {\n",
              "      background-color: #E2EBFA;\n",
              "      box-shadow: 0px 1px 2px rgba(60, 64, 67, 0.3), 0px 1px 3px 1px rgba(60, 64, 67, 0.15);\n",
              "      fill: #174EA6;\n",
              "    }\n",
              "\n",
              "    [theme=dark] .colab-df-convert {\n",
              "      background-color: #3B4455;\n",
              "      fill: #D2E3FC;\n",
              "    }\n",
              "\n",
              "    [theme=dark] .colab-df-convert:hover {\n",
              "      background-color: #434B5C;\n",
              "      box-shadow: 0px 1px 3px 1px rgba(0, 0, 0, 0.15);\n",
              "      filter: drop-shadow(0px 1px 2px rgba(0, 0, 0, 0.3));\n",
              "      fill: #FFFFFF;\n",
              "    }\n",
              "  </style>\n",
              "\n",
              "      <script>\n",
              "        const buttonEl =\n",
              "          document.querySelector('#df-dff9d174-b5be-4b3e-a87f-7cd2fed53aa0 button.colab-df-convert');\n",
              "        buttonEl.style.display =\n",
              "          google.colab.kernel.accessAllowed ? 'block' : 'none';\n",
              "\n",
              "        async function convertToInteractive(key) {\n",
              "          const element = document.querySelector('#df-dff9d174-b5be-4b3e-a87f-7cd2fed53aa0');\n",
              "          const dataTable =\n",
              "            await google.colab.kernel.invokeFunction('convertToInteractive',\n",
              "                                                     [key], {});\n",
              "          if (!dataTable) return;\n",
              "\n",
              "          const docLinkHtml = 'Like what you see? Visit the ' +\n",
              "            '<a target=\"_blank\" href=https://colab.research.google.com/notebooks/data_table.ipynb>data table notebook</a>'\n",
              "            + ' to learn more about interactive tables.';\n",
              "          element.innerHTML = '';\n",
              "          dataTable['output_type'] = 'display_data';\n",
              "          await google.colab.output.renderOutput(dataTable, element);\n",
              "          const docLink = document.createElement('div');\n",
              "          docLink.innerHTML = docLinkHtml;\n",
              "          element.appendChild(docLink);\n",
              "        }\n",
              "      </script>\n",
              "    </div>\n",
              "  </div>\n",
              "  "
            ]
          },
          "metadata": {},
          "execution_count": 30
        }
      ],
      "source": [
        "import pandas as pd\n",
        "# données\n",
        "dataMulti = np.genfromtxt('dataMulti.csv', delimiter=',')\n",
        "dataMulti.shape\n",
        "dataMulti = pd.DataFrame(dataMulti)\n",
        "dataMulti"
      ]
    },
    {
      "cell_type": "markdown",
      "metadata": {
        "id": "p0bfXUybf2fD"
      },
      "source": [
        "Pour cette ensemble de données, nous voudrions prédire le prix d'une maison (3ème colonne de dataMulti) à partir de :\n",
        "- sa supérficie (1ère colonne)\n",
        "- son nombre de chambres (2ème colonne)"
      ]
    },
    {
      "cell_type": "code",
      "execution_count": null,
      "metadata": {
        "id": "3u_rp_3xf2fD",
        "colab": {
          "base_uri": "https://localhost:8080/"
        },
        "outputId": "3bb4c903-3aa1-47ce-ba1b-24249acb13f9"
      },
      "outputs": [
        {
          "output_type": "execute_result",
          "data": {
            "text/plain": [
              "array([[   1, 2104,    3],\n",
              "       [   1, 1600,    3],\n",
              "       [   1, 2400,    3],\n",
              "       [   1, 1416,    2],\n",
              "       [   1, 3000,    4],\n",
              "       [   1, 1985,    4],\n",
              "       [   1, 1534,    3],\n",
              "       [   1, 1427,    3],\n",
              "       [   1, 1380,    3],\n",
              "       [   1, 1494,    3],\n",
              "       [   1, 1940,    4],\n",
              "       [   1, 2000,    3],\n",
              "       [   1, 1890,    3],\n",
              "       [   1, 4478,    5],\n",
              "       [   1, 1268,    3],\n",
              "       [   1, 2300,    4],\n",
              "       [   1, 1320,    2],\n",
              "       [   1, 1236,    3],\n",
              "       [   1, 2609,    4],\n",
              "       [   1, 3031,    4],\n",
              "       [   1, 1767,    3],\n",
              "       [   1, 1888,    2],\n",
              "       [   1, 1604,    3],\n",
              "       [   1, 1962,    4],\n",
              "       [   1, 3890,    3],\n",
              "       [   1, 1100,    3],\n",
              "       [   1, 1458,    3],\n",
              "       [   1, 2526,    3],\n",
              "       [   1, 2200,    3],\n",
              "       [   1, 2637,    3],\n",
              "       [   1, 1839,    2],\n",
              "       [   1, 1000,    1],\n",
              "       [   1, 2040,    4],\n",
              "       [   1, 3137,    3],\n",
              "       [   1, 1811,    4],\n",
              "       [   1, 1437,    3],\n",
              "       [   1, 1239,    3],\n",
              "       [   1, 2132,    4],\n",
              "       [   1, 4215,    4],\n",
              "       [   1, 2162,    4],\n",
              "       [   1, 1664,    2],\n",
              "       [   1, 2238,    3],\n",
              "       [   1, 2567,    4],\n",
              "       [   1, 1200,    3],\n",
              "       [   1,  852,    2],\n",
              "       [   1, 1852,    4],\n",
              "       [   1, 1203,    3]])"
            ]
          },
          "metadata": {},
          "execution_count": 69
        }
      ],
      "source": [
        "# d'abord créer X et y\n",
        "y = dataMulti.iloc[0:,2]\n",
        "y = np.array(y )\n",
        "X = np.ones((47,3))\n",
        "X_ = dataMulti.iloc[0:,0:2]\n",
        "for i in range (len(X)):\n",
        "  X[i][1]=X_[0][i]\n",
        "  X[i][2]=X_[1][i]\n",
        "\n",
        "\n",
        "X.astype(int)\n"
      ]
    },
    {
      "cell_type": "code",
      "source": [
        "theta = initialisation(3)\n",
        "alpha = 0.01\n",
        "iteration = 1000\n",
        "y =np.reshape(y,(47,1))\n",
        "X.shape"
      ],
      "metadata": {
        "colab": {
          "base_uri": "https://localhost:8080/"
        },
        "id": "R54un2YSni1f",
        "outputId": "d3992580-1919-45f3-d693-8b082559cdf7"
      },
      "execution_count": null,
      "outputs": [
        {
          "output_type": "execute_result",
          "data": {
            "text/plain": [
              "(47, 3)"
            ]
          },
          "metadata": {},
          "execution_count": 70
        }
      ]
    },
    {
      "cell_type": "markdown",
      "source": [
        "# ***Application de gradient descent avant la normalisation des données***"
      ],
      "metadata": {
        "id": "8pywAaoqjIy1"
      }
    },
    {
      "cell_type": "markdown",
      "source": [
        "***Appliquer la descente du gradient à plusieurs variables***"
      ],
      "metadata": {
        "id": "mW8SUVACXuPP"
      }
    },
    {
      "cell_type": "code",
      "execution_count": null,
      "metadata": {
        "colab": {
          "base_uri": "https://localhost:8080/"
        },
        "id": "i6MYtnbIduBR",
        "outputId": "5ddfe0b0-ced9-49bb-d1f2-e5e0f4c89d1f"
      },
      "outputs": [
        {
          "output_type": "stream",
          "name": "stdout",
          "text": [
            "iter 0 , cost : 6015548808460000.0 , t : [0.0,0.0,0.0] , temps pris : 0:00:00\n",
            "iter 1000000 , cost : 2888226946933.582 , t : [3644.3608433536265,155.63526951472596,5656.669426300377] , temps pris : 0:00:39\n",
            "iter 2000000 , cost : 1943653179296.7524 , t : [6561.840331968702,149.4824189946344,9042.091091127733] , temps pris : 0:01:17\n",
            "iter 3000000 , cost : 1427115493750.943 , t : [9007.456834284058,145.5993859364839,10997.428898090404] , temps pris : 0:01:56\n",
            "iter 4000000 , cost : 1127918832886.991 , t : [11142.463565935193,143.14954796435944,12053.589112841315] , temps pris : 0:02:35\n",
            "iter 5000000 , cost : 944514590622.44 , t : [13068.946806604858,141.6046346000072,12545.723483654696] , temps pris : 0:03:13\n",
            "iter 6000000 , cost : 825558185108.9861 , t : [14851.627278345915,140.6310790639329,12685.379482443506] , temps pris : 0:03:52\n",
            "iter 7000000 , cost : 743855736513.5884 , t : [16531.626383100564,140.01825699578,12606.058348650371] , temps pris : 0:04:31\n",
            "iter 8000000 , cost : 684398458445.4305 , t : [18135.15878069166,139.63317397878356,12391.981929776148] , temps pris : 0:05:09\n",
            "iter 9000000 , cost : 638616394974.2345 , t : [19679.0212858171,139.391853725114,12096.256994321939] , temps pris : 0:05:48\n",
            "iter 10000000 , cost : 601484293936.4789 , t : [21174.05885118646,139.24127161798674,11752.344754337026] , temps pris : 0:06:27\n",
            "iter 11000000 , cost : 569994883482.0085 , t : [22627.353212786496,139.14794694531446,11381.303073737088] , temps pris : 0:07:06\n",
            "iter 12000000 , cost : 542319671195.84607 , t : [24043.604978961244,139.09073965420163,10996.359409477662] , temps pris : 0:07:44\n",
            "iter 13000000 , cost : 517331849734.26733 , t : [25426.006430698453,139.0563019808088,10605.798288701932] , temps pris : 0:08:23\n",
            "iter 14000000 , cost : 494327969518.593 , t : [26776.79273774397,139.03620645741273,10214.784528091492] , temps pris : 0:09:01\n",
            "iter 15000000 , cost : 472862486620.1164 , t : [28097.590113585935,139.02513244019994,9826.514445827588] , temps pris : 0:09:40\n",
            "iter 16000000 , cost : 452648102128.14276 , t : [29389.635748779816,139.01972102248578,9442.94274620593] , temps pris : 0:10:18\n",
            "iter 17000000 , cost : 433495184089.27875 , t : [30653.916778767652,139.0178519888923,9065.24147035536] , temps pris : 0:10:56\n",
            "iter 18000000 , cost : 415274716824.97925 , t : [31891.258125414006,139.0181872603309,8694.0897651207] , temps pris : 0:11:34\n",
            "iter 19000000 , cost : 397895542780.36273 , t : [33102.37805372377,139.0198826101551,8329.856825457855] , temps pris : 0:12:12\n",
            "iter 20000000 , cost : 381290339922.64716 , t : [34287.92334096358,139.0224056323962,7972.7173835741405] , temps pris : 0:12:50\n",
            "iter 21000000 , cost : 365406960010.0477 , t : [35448.49157050151,139.02542080112812,7622.724606389878] , temps pris : 0:13:29\n",
            "iter 22000000 , cost : 350203065708.1719 , t : [36584.64529392721,139.02871689336806,7279.856099737513] , temps pris : 0:14:07\n",
            "iter 23000000 , cost : 335642801377.7558 , t : [37696.921056774496,139.03216116176753,6944.042931793123] , temps pris : 0:14:45\n",
            "iter 24000000 , cost : 321694719281.66846 , t : [38785.83517917903,139.03567039798168,6615.187934809768] , temps pris : 0:15:24\n",
            "iter 25000000 , cost : 308330481556.33 , t : [39851.88748579871,139.03919266141452,6293.177237328039] , temps pris : 0:16:03\n",
            "iter 26000000 , cost : 295524042075.36957 , t : [40895.563739144854,139.04269574236685,5977.887522390198] , temps pris : 0:16:41\n",
            "iter 27000000 , cost : 283251125437.17255 , t : [41917.33725257318,139.04615987758316,5669.190587504643] , temps pris : 0:17:20\n",
            "iter 28000000 , cost : 271488890241.41525 , t : [42917.669983665306,139.0495731508332,5366.956201328968] , temps pris : 0:17:58\n",
            "iter 29000000 , cost : 260215706841.4705 , t : [43897.013297966245,139.05292858895808,5071.053885322275] , temps pris : 0:18:37\n",
            "iter 30000000 , cost : 249411006465.91943 , t : [44855.80852300537,139.0562223284561,4781.354017044748] , temps pris : 0:19:18\n",
            "iter 31000000 , cost : 239055175002.49918 , t : [45794.487368405615,139.05945245804196,4497.728505587129] , temps pris : 0:19:56\n",
            "iter 32000000 , cost : 229129474926.24277 , t : [46713.47225996191,139.0626182880464,4220.0511972684] , temps pris : 0:20:34\n",
            "iter 33000000 , cost : 219615985145.55038 , t : [47613.17661795011,139.06571988932612,3948.1981114499386] , temps pris : 0:21:12\n",
            "iter 34000000 , cost : 210497552425.85507 , t : [48494.00509880617,139.0687578023184,3682.047569513546] , temps pris : 0:21:51\n",
            "iter 35000000 , cost : 201757750421.9163 , t : [49356.35381229763,139.0717328535838,3421.4802567912698] , temps pris : 0:22:29\n",
            "iter 36000000 , cost : 193380843885.05048 , t : [50200.61052185937,139.074646040173,3166.3792425712863] , temps pris : 0:23:07\n",
            "iter 37000000 , cost : 185351756507.82764 , t : [51027.15483298098,139.07749845680354,2916.629974030782] , temps pris : 0:23:46\n",
            "iter 38000000 , cost : 177656041410.94397 , t : [51836.358372740244,139.08029125012365,2672.1202540993972] , temps pris : 0:24:24\n",
            "iter 39000000 , cost : 170279853690.5941 , t : [52628.58496248193,139.0830255900059,2432.740209558414] , temps pris : 0:25:02\n",
            "iter 40000000 , cost : 163209924602.62457 , t : [53404.19078492937,139.08570265163578,2198.3822533508815] , temps pris : 0:25:40\n",
            "iter 41000000 , cost : 156433537131.0763 , t : [54163.52454655032,139.08832360440363,1968.941043605479] , temps pris : 0:26:18\n",
            "iter 42000000 , cost : 149938502774.10632 , t : [54906.92763574014,139.09088960506182,1744.3134409429024] , temps pris : 0:26:57\n",
            "iter 43000000 , cost : 143713139401.20895 , t : [55634.73427718887,139.0934017936186,1524.3984650548957] , temps pris : 0:27:35\n",
            "iter 44000000 , cost : 137746250110.47058 , t : [56347.27168271441,139.09586129091144,1309.0972511661937] , temps pris : 0:28:13\n",
            "iter 45000000 , cost : 132027103011.7112 , t : [57044.86019872147,139.09826919725276,1098.3130067611635] , temps pris : 0:28:51\n",
            "iter 46000000 , cost : 126545411867.49054 , t : [57727.81345046313,139.1006265917674,891.9509688092442] , temps pris : 0:29:30\n",
            "iter 47000000 , cost : 121291317567.7793 , t : [58396.43848313695,139.1029345321411,689.9183616314576] , temps pris : 0:30:08\n",
            "iter 48000000 , cost : 116255370372.63887 , t : [59051.03590008317,139.1051940546179,492.12435548380915] , temps pris : 0:30:46\n",
            "iter 49000000 , cost : 111428512909.3825 , t : [59691.89999794374,139.10740617417818,298.4800259088025] , temps pris : 0:31:24\n",
            "iter 50000000 , cost : 106802063874.03064 , t : [60319.31889901831,139.1095718848066,108.89831387492039] , temps pris : 0:32:03\n",
            "iter 51000000 , cost : 102367702409.39056 , t : [60933.57468082679,139.1116921598319,-76.70601328952421] , temps pris : 0:32:41\n",
            "iter 52000000 , cost : 98117453141.77312 , t : [61534.943502934206,139.11376795227716,-258.4164001683063] , temps pris : 0:33:19\n",
            "iter 53000000 , cost : 94043671832.95271 , t : [62123.695731125394,139.11580019524496,-436.3145407433136] , temps pris : 0:33:57\n",
            "iter 54000000 , cost : 90139031629.36786 , t : [62700.09605895762,139.1177898023145,-610.4804151039874] , temps pris : 0:34:36\n",
            "iter 55000000 , cost : 86396509886.9654 , t : [63264.4036267542,139.11973766792838,-780.9923253932477] , temps pris : 0:35:14\n",
            "iter 56000000 , cost : 82809375537.00093 , t : [63816.87213813879,139.12164466778034,-947.9269310026659] , temps pris : 0:35:52\n",
            "iter 57000000 , cost : 79371176982.70781 , t : [64357.74997407551,139.12351165920325,-1111.3592830335735] , temps pris : 0:36:31\n",
            "iter 58000000 , cost : 76075730493.55003 , t : [64887.280304548076,139.12533948155198,-1271.3628580354293] , temps pris : 0:37:10\n",
            "iter 59000000 , cost : 72917109082.85408 , t : [65405.7011978891,139.1271289565799,-1428.0095910384805] , temps pris : 0:37:48\n",
            "iter 60000000 , cost : 69889631851.90224 , t : [65913.24572778815,139.12888088880052,-1581.3699078924035] , temps pris : 0:38:26\n",
            "iter 61000000 , cost : 66987853768.0843 , t : [66410.14207811441,139.13059606584756,-1731.5127569277122] , temps pris : 0:39:05\n",
            "iter 62000000 , cost : 64206555872.75142 , t : [66896.61364547671,139.13227525884042,-1878.5056399544574] , temps pris : 0:39:43\n",
            "iter 63000000 , cost : 61540735896.60372 , t : [67372.87913967588,139.13391922271322,-2022.4146426090688] , temps pris : 0:40:21\n",
            "iter 64000000 , cost : 58985599262.72606 , t : [67839.15268202174,139.13552869656058,-2163.3044640657113] , temps pris : 0:41:00\n",
            "iter 65000000 , cost : 56536550460.12415 , t : [68295.6439016034,139.1371044039801,-2301.238446122702] , temps pris : 0:41:39\n",
            "iter 66000000 , cost : 54189184781.9232 , t : [68742.5580295343,139.13864705338432,-2436.2786016808072] , temps pris : 0:42:17\n",
            "iter 67000000 , cost : 51939280402.481155 , t : [69180.095991224,139.14015733832179,-2568.4856426235424] , temps pris : 0:42:56\n",
            "iter 68000000 , cost : 49782790782.88576 , t : [69608.45449670358,139.14163593779656,-2697.919007110594] , temps pris : 0:43:34\n",
            "iter 69000000 , cost : 47715837396.32803 , t : [70027.82612907328,139.14308351655637,-2824.6368863024686] , temps pris : 0:44:12\n",
            "iter 70000000 , cost : 45734702747.84622 , t : [70438.3994310753,139.14450072541516,-2948.6962505201295] , temps pris : 0:44:50\n",
            "iter 71000000 , cost : 43835823692.76176 , t : [70840.35898987214,139.14588820152005,-3070.1528748597602] , temps pris : 0:45:28\n",
            "iter 72000000 , cost : 42015785024.458786 , t : [71233.8855200208,139.1472465686622,-3189.0613642675776] , temps pris : 0:46:07\n",
            "iter 73000000 , cost : 40271313335.00507 , t : [71619.1559447155,139.14857643754289,-3305.475178088782] , temps pris : 0:46:45\n",
            "iter 74000000 , cost : 38599271125.68995 , t : [71996.34347534896,139.14987840605028,-3419.4466541026704] , temps pris : 0:47:23\n",
            "iter 75000000 , cost : 36996651165.735085 , t : [72365.61768937315,139.15115305952568,-3531.0270320527834] , temps pris : 0:48:01\n",
            "iter 76000000 , cost : 35460571081.99129 , t : [72727.14460653646,139.1524009710368,-3640.266476683324] , temps pris : 0:48:39\n",
            "iter 77000000 , cost : 33988268176.697598 , t : [73081.08676353,139.15362270162137,-3747.214100292062] , temps pris : 0:49:18\n",
            "iter 78000000 , cost : 32577094457.700657 , t : [73427.60328705778,139.15481880054924,-3851.917984812201] , temps pris : 0:49:56\n",
            "iter 79000000 , cost : 31224511875.187904 , t : [73766.84996538235,139.15598980556763,-3954.425203426673] , temps pris : 0:50:34\n",
            "iter 80000000 , cost : 29928087758.558346 , t : [74098.97931835311,139.15713624314208,-4054.7818417335648] , temps pris : 0:51:12\n",
            "iter 81000000 , cost : 28685490439.716072 , t : [74424.14066599308,139.15825862869173,-4153.033018464195] , temps pris : 0:51:51\n",
            "iter 82000000 , cost : 27494485060.56487 , t : [74742.48019561284,139.15935746682425,-4249.2229057683335] , temps pris : 0:52:29\n",
            "iter 83000000 , cost : 26352929552.951733 , t : [75054.14102754569,139.16043325155982,-4343.3947490729315] , temps pris : 0:53:07\n",
            "iter 84000000 , cost : 25258770785.53492 , t : [75359.26327949684,139.16148646655495,-4435.590886524661] , temps pris : 0:53:45\n",
            "iter 85000000 , cost : 24210040873.077206 , t : [75657.98412952179,139.16251758531615,-4525.852768025272] , temps pris : 0:54:23\n",
            "iter 86000000 , cost : 23204853634.98514 , t : [75950.43787771554,139.16352707141718,-4614.220973865424] , temps pris : 0:55:02\n",
            "iter 87000000 , cost : 22241401203.94221 , t : [76236.75600658184,139.16451537870978,-4700.735232971596] , temps pris : 0:55:40\n",
            "iter 88000000 , cost : 21317950774.175716 , t : [76517.06724014849,139.16548295151702,-4785.434440760708] , temps pris : 0:56:18\n",
            "iter 89000000 , cost : 20432841485.131695 , t : [76791.49760184286,139.16643022484644,-4868.356676637239] , temps pris : 0:56:56\n",
            "iter 90000000 , cost : 19584481434.579372 , t : [77060.17047113772,139.16735762457753,-4949.539221105336] , temps pris : 0:57:35\n",
            "iter 91000000 , cost : 18771344814.397587 , t : [77323.2066390412,139.16826556765517,-5029.018572531725] , temps pris : 0:58:13\n",
            "iter 92000000 , cost : 17991969168.325096 , t : [77580.72436238179,139.1691544622726,-5106.830463555262] , temps pris : 0:58:51\n",
            "iter 93000000 , cost : 17244952759.142994 , t : [77832.83941699166,139.17002470806543,-5183.00987715097] , temps pris : 0:59:29\n",
            "iter 94000000 , cost : 16528952050.05941 , t : [78079.66514974914,139.1708766962774,-5257.591062358881] , temps pris : 1:00:07\n",
            "iter 95000000 , cost : 15842679286.210855 , t : [78321.3125295315,139.17171080995593,-5330.6075496814365] , temps pris : 1:00:45\n",
            "iter 96000000 , cost : 15184900180.37516 , t : [78557.89019711924,139.1725274241002,-5402.092166157055] , temps pris : 1:01:24\n",
            "iter 97000000 , cost : 14554431691.925516 , t : [78789.5045140268,139.17332690584848,-5472.077050120531] , temps pris : 1:02:02\n",
            "iter 98000000 , cost : 13950139899.502321 , t : [79016.25961032069,139.17410961463656,-5540.593665649831] , temps pris : 1:02:40\n",
            "iter 99000000 , cost : 13370937961.245321 , t : [79238.25743146297,139.17487590235336,-5607.672816714907] , temps pris : 1:03:19\n",
            "iter 100000000 , cost : 12815784160.896128 , t : [79455.59778409763,139.17562611351025,-5673.344661023793] , temps pris : 1:03:57\n",
            "iter 101000000 , cost : 12283680032.87767 , t : [79668.37838095539,139.1763605853926,-5737.638723581346] , temps pris : 1:04:35\n",
            "iter 102000000 , cost : 11773668568.092478 , t : [79876.69488476861,139.1770796482081,-5800.583909965918] , temps pris : 1:05:14\n",
            "iter 103000000 , cost : 11284832491.696041 , t : [80080.64095129457,139.17778362523129,-5862.208519320854] , temps pris : 1:05:52\n",
            "iter 104000000 , cost : 10816292613.545284 , t : [80280.30827139746,139.17847283296246,-5922.540257079602] , temps pris : 1:06:30\n",
            "iter 105000000 , cost : 10367206246.440928 , t : [80475.78661230115,139.17914758126022,-5981.606247421476] , temps pris : 1:07:08\n",
            "iter 106000000 , cost : 9936765691.951265 , t : [80667.16385792359,139.17980817347782,-6039.433045466465] , temps pris : 1:07:47\n",
            "iter 107000000 , cost : 9524196786.781033 , t : [80854.52604839612,139.18045490660384,-6096.046649213183] , temps pris : 1:08:25\n",
            "iter 108000000 , cost : 9128757509.518982 , t : [81037.9574187499,139.18108807140504,-6151.472511227851] , temps pris : 1:09:03\n",
            "iter 109000000 , cost : 8749736647.987167 , t : [81217.54043678312,139.18170795253783,-6205.735550087443] , temps pris : 1:09:41\n",
            "iter 110000000 , cost : 8386452518.927246 , t : [81393.35584012882,139.1823148286918,-6258.8601615817415] , temps pris : 1:10:19\n",
            "iter 111000000 , cost : 8038251741.8812065 , t : [81565.48267257637,139.18290897270634,-6310.870229682292] , temps pris : 1:10:58\n",
            "iter 112000000 , cost : 7704508064.370959 , t : [81733.99831956794,139.18349065170938,-6361.7891372798] , temps pris : 1:11:35\n",
            "iter 113000000 , cost : 7384621236.365932 , t : [81898.978543038,139.18406012720203,-6411.639776696149] , temps pris : 1:12:14\n",
            "iter 114000000 , cost : 7078015928.937292 , t : [82060.49751544061,139.18461765521747,-6460.4445599777] , temps pris : 1:12:52\n",
            "iter 115000000 , cost : 6784140700.841972 , t : [82218.62785311021,139.1851634864104,-6508.225428970161] , temps pris : 1:13:30\n",
            "iter 116000000 , cost : 6502467006.382037 , t : [82373.44064890375,139.1856978661784,-6555.003865184379] , temps pris : 1:14:09\n",
            "iter 117000000 , cost : 6232488244.890394 , t : [82525.00550416803,139.18622103476713,-6600.800899453345] , temps pris : 1:14:47\n",
            "iter 118000000 , cost : 5973718849.239541 , t : [82673.39056002276,139.18673322738778,-6645.63712138753] , temps pris : 1:15:26\n",
            "iter 119000000 , cost : 5725693412.837488 , t : [82818.66252800566,139.1872346743133,-6689.5326886313405] , temps pris : 1:16:04\n",
            "iter 120000000 , cost : 5487965852.723832 , t : [82960.88672005846,139.18772560098637,-6732.50733592793] , temps pris : 1:16:43\n",
            "iter 121000000 , cost : 5260108606.649045 , t : [83100.12707789098,139.1882062281181,-6774.580383984425] , temps pris : 1:17:22\n",
            "iter 122000000 , cost : 5041711865.093389 , t : [83236.44620173839,139.1886767717857,-6815.770748169835] , temps pris : 1:18:00\n",
            "iter 123000000 , cost : 4832382832.806171 , t : [83369.90537847113,139.18913744355137,-6856.096947008674] , temps pris : 1:18:39\n",
            "iter 124000000 , cost : 4631745023.964745 , t : [83500.56460919794,139.18958845051634,-6895.5771105118965] , temps pris : 1:19:17\n",
            "iter 125000000 , cost : 4439437583.7162485 , t : [83628.48263620735,139.190029995449,-6934.228988326177] , temps pris : 1:19:56\n",
            "iter 126000000 , cost : 4255114639.879662 , t : [83753.71696939065,139.19046227685942,-6972.069957714613] , temps pris : 1:20:34\n",
            "iter 127000000 , cost : 4078444680.725509 , t : [83876.32391208754,139.19088548909505,-7009.1170313687435] , temps pris : 1:21:12\n",
            "iter 128000000 , cost : 3909109958.370459 , t : [83996.35858641229,139.19129982242845,-7045.386865057439] , temps pris : 1:21:50\n",
            "iter 129000000 , cost : 3746805918.4087944 , t : [84113.87495802138,139.19170546313018,-7080.895765114812] , temps pris : 1:22:29\n",
            "iter 130000000 , cost : 3591240650.7206736 , t : [84228.9258603866,139.19210259357237,-7115.659695771482] , temps pris : 1:23:07\n",
            "iter 131000000 , cost : 3442134364.934191 , t : [84341.56301854769,139.19249139230328,-7149.694286331885] , temps pris : 1:23:45\n",
            "iter 132000000 , cost : 3299218888.0332594 , t : [84451.83707235714,139.19287203411702,-7183.014838200753] , temps pris : 1:24:24\n",
            "iter 133000000 , cost : 3162237181.257156 , t : [84559.79759925925,139.1932446901405,-7215.636331762727] , temps pris : 1:25:02\n",
            "iter 134000000 , cost : 3030942877.5253186 , t : [84665.49313656816,139.19360952792104,-7247.573433116774] , temps pris : 1:25:40\n",
            "iter 135000000 , cost : 2905099839.373309 , t : [84768.97120330168,139.19396671147618,-7278.8405006703] , temps pris : 1:26:18\n",
            "iter 136000000 , cost : 2784481732.9185443 , t : [84870.2783215354,139.19431640139845,-7309.451591594351] , temps pris : 1:26:56\n",
            "iter 137000000 , cost : 2668871622.4100304 , t : [84969.4600373193,139.19465875489416,-7339.420468143461] , temps pris : 1:27:35\n",
            "iter 138000000 , cost : 2558061578.2634983 , t : [85066.56094115606,139.19499392588963,-7368.760603842475] , temps pris : 1:28:13\n",
            "iter 139000000 , cost : 2451852304.7898083 , t : [85161.62468805675,139.19532206506275,-7397.4851895454185] , temps pris : 1:28:51\n",
            "iter 140000000 , cost : 2350052780.3230844 , t : [85254.69401715192,139.19564331994516,-7425.607139363443] , temps pris : 1:29:29\n",
            "iter 141000000 , cost : 2252479914.799426 , t : [85345.81077091668,139.19595783496342,-7453.139096473871] , temps pris : 1:30:07\n",
            "iter 142000000 , cost : 2158958219.5217385 , t : [85435.0159139771,139.19626575152347,-7480.093438801687] , temps pris : 1:30:46\n",
            "iter 143000000 , cost : 2069319492.3738172 , t : [85522.34955153005,139.19656720805594,-7506.482284585934] , temps pris : 1:31:24\n",
            "iter 144000000 , cost : 1983402514.460922 , t : [85607.85094737711,139.19686234009598,-7532.317497827525] , temps pris : 1:32:02\n",
            "iter 145000000 , cost : 1901052761.0890083 , t : [85691.55854157112,139.1971512803243,-7557.610693622889] , temps pris : 1:32:40\n",
            "iter 146000000 , cost : 1822122123.0259247 , t : [85773.50996770088,139.19743415864608,-7582.373243386405] , temps pris : 1:33:19\n",
            "iter 147000000 , cost : 1746468640.3876674 , t : [85853.74206981032,139.19771110224227,-7606.616279962204] , temps pris : 1:33:57\n",
            "iter 148000000 , cost : 1673956247.8673248 , t : [85932.29091896197,139.19798223561395,-7630.35070262996] , temps pris : 1:34:35\n",
            "iter 149000000 , cost : 1604454528.8271575 , t : [86009.19182946096,139.19824768066525,-7653.587182004642] , temps pris : 1:35:13\n",
            "iter 150000000 , cost : 1537838482.0380838 , t : [86084.47937471294,139.19850755673355,-7676.336164834037] , temps pris : 1:35:51\n",
            "iter 151000000 , cost : 1473988295.8799696 , t : [86158.18740279121,139.198761980657,-7698.607878695008] , temps pris : 1:36:29\n",
            "iter 152000000 , cost : 1412789133.424242 , t : [86230.34905164198,139.1990110668184,-7720.4123365920805] , temps pris : 1:37:08\n",
            "iter 153000000 , cost : 1354130925.6316872 , t : [86300.99676397913,139.19925492720438,-7741.759341458279] , temps pris : 1:37:46\n",
            "iter 154000000 , cost : 1297908173.590432 , t : [86370.16230187826,139.19949367145006,-7762.658490565178] , temps pris : 1:38:25\n",
            "iter 155000000 , cost : 1244019758.4939096 , t : [86437.87676105728,139.19972740688948,-7783.119179833413] , temps pris : 1:39:03\n",
            "iter 156000000 , cost : 1192368760.041875 , t : [86504.17058484614,139.19995623860586,-7803.1506080599665] , temps pris : 1:39:41\n",
            "iter 157000000 , cost : 1142862281.755061 , t : [86569.07357788522,139.20018026948392,-7822.761781053321] , temps pris : 1:40:20\n",
            "iter 158000000 , cost : 1095411284.6031194 , t : [86632.61491951291,139.20039960023854,-7841.9615156815935] , temps pris : 1:40:58\n",
            "iter 159000000 , cost : 1049930426.0507413 , t : [86694.82317690087,139.20061432947858,-7860.758443837004] , temps pris : 1:41:36\n",
            "iter 160000000 , cost : 1006337907.1531945 , t : [86755.72631787158,139.2008245537435,-7879.161016315672] , temps pris : 1:42:15\n",
            "iter 161000000 , cost : 964555324.995045 , t : [86815.3517235052,139.20103036754765,-7897.177506618509] , temps pris : 1:42:53\n",
            "iter 162000000 , cost : 924507532.0721043 , t : [86873.72620042549,139.20123186342047,-7914.8160146702885] , temps pris : 1:43:31\n",
            "iter 163000000 , cost : 886122500.9762639 , t : [86930.87599285487,139.20142913195022,-7932.084470460173] , temps pris : 1:44:09\n",
            "iter 164000000 , cost : 849331194.6392759 , t : [86986.82679442628,139.20162226182893,-7948.990637608745] , temps pris : 1:44:48\n",
            "iter 165000000 , cost : 814067442.6684072 , t : [87041.60375972015,139.2018113398789,-7965.542116857007] , temps pris : 1:45:25\n",
            "iter 166000000 , cost : 780267821.7240007 , t : [87095.23151557741,139.2019964511134,-7981.746349484063] , temps pris : 1:46:04\n",
            "iter 167000000 , cost : 747871541.9344321 , t : [87147.73417217481,139.20217767875383,-7997.610620651868] , temps pris : 1:46:42\n",
            "iter 168000000 , cost : 716820337.4746704 , t : [87199.13533386476,139.2023551042727,-8013.1420626822555] , temps pris : 1:47:20\n",
            "iter 169000000 , cost : 687058361.4646711 , t : [87249.4581097813,139.2025288074426,-8028.347658261478] , temps pris : 1:47:58\n",
            "iter 170000000 , cost : 658532085.9285043 , t : [87298.72512423737,139.2026988663546,-8043.234243581163] , temps pris : 1:48:36\n",
            "iter 171000000 , cost : 631190205.216584 , t : [87346.9585268899,139.20286535746772,-8057.808511410835] , temps pris : 1:49:14\n",
            "iter 172000000 , cost : 604983544.0357542 , t : [87394.18000270196,139.2030283556278,-8072.077014106646] , temps pris : 1:49:53\n",
            "iter 173000000 , cost : 579864968.6067017 , t : [87440.41078168673,139.20318793412363,-8086.046166558721] , temps pris : 1:50:31\n",
            "iter 174000000 , cost : 555789302.2820947 , t : [87485.67164846457,139.20334416469282,-8099.722249072843] , temps pris : 1:51:09\n",
            "iter 175000000 , cost : 532713244.03538287 , t : [87529.98295159098,139.2034971175772,-8113.111410196124] , temps pris : 1:51:47\n",
            "iter 176000000 , cost : 510595290.61483395 , t : [87573.36461271481,139.20364686154642,-8126.219669480077] , temps pris : 1:52:26\n",
            "iter 177000000 , cost : 489395662.25542325 , t : [87615.83613553285,139.20379346391297,-8139.052920187253] , temps pris : 1:53:04\n",
            "iter 178000000 , cost : 469076230.5061133 , t : [87657.41661456203,139.20393699059153,-8151.616931941195] , temps pris : 1:53:42\n",
            "iter 179000000 , cost : 449600450.0018561 , t : [87698.12474371563,139.2040775061149,-8163.917353319378] , temps pris : 1:54:20\n",
            "iter 180000000 , cost : 430933293.00359535 , t : [87737.97882471474,139.20421507364694,-8175.959714393675] , temps pris : 1:54:59\n",
            "iter 181000000 , cost : 413041185.8029896 , t : [87776.99677531356,139.2043497550421,-8187.749429216154] , temps pris : 1:55:37\n",
            "iter 182000000 , cost : 395891948.78459936 , t : [87815.19613735382,139.20448161085054,-8199.291798252776] , temps pris : 1:56:15\n",
            "iter 183000000 , cost : 379454738.44600636 , t : [87852.59408465553,139.20461070034935,-8210.592010767103] , temps pris : 1:56:53\n",
            "iter 184000000 , cost : 363699991.79152447 , t : [87889.20743073586,139.20473708157752,-8221.655147153191] , temps pris : 1:57:31\n",
            "iter 185000000 , cost : 348599373.24002606 , t : [87925.05263636447,139.20486081135994,-8232.486181219592] , temps pris : 1:58:10\n",
            "iter 186000000 , cost : 334125723.9642909 , t : [87960.14581697244,139.20498194530893,-8243.089982424413] , temps pris : 1:58:48\n",
            "iter 187000000 , cost : 320253012.4871594 , t : [87994.50274989,139.20510053788928,-8253.471318066946] , temps pris : 1:59:26\n",
            "iter 188000000 , cost : 306956288.08162516 , t : [88028.1388814388,139.2052166424276,-8263.634855428654] , temps pris : 2:00:04\n",
            "iter 189000000 , cost : 294211636.1612885 , t : [88061.0693338844,139.20533031111708,-8273.585163872369] , temps pris : 2:00:43\n",
            "iter 190000000 , cost : 281996135.0056774 , t : [88093.30891222686,139.2054415950613,-8283.326716896878] , temps pris : 2:01:21\n",
            "iter 191000000 , cost : 270287814.59285766 , t : [88124.87211086393,139.2055505442889,-8292.863894147353] , temps pris : 2:02:00\n",
            "iter 192000000 , cost : 259065617.01258314 , t : [88155.77312010205,139.2056572077867,-8302.200983386216] , temps pris : 2:02:38\n",
            "iter 193000000 , cost : 248309358.7634202 , t : [88186.02583254005,139.20576163350432,-8311.342182418337] , temps pris : 2:03:16\n",
            "iter 194000000 , cost : 237999694.23003757 , t : [88215.64384931039,139.20586386839585,-8320.291600979905] , temps pris : 2:03:54\n",
            "iter 195000000 , cost : 228118081.22497076 , t : [88244.64048619488,139.20596395841582,-8329.05326258542] , temps pris : 2:04:32\n",
            "iter 196000000 , cost : 218646747.23330912 , t : [88273.02877961706,139.20606194856657,-8337.631106337252] , temps pris : 2:05:10\n",
            "iter 197000000 , cost : 209568657.6227088 , t : [88300.82149249862,139.20615788290857,-8346.02898869628] , temps pris : 2:05:49\n",
            "iter 198000000 , cost : 200867485.17876145 , t : [88328.03111999761,139.20625180456625,-8354.250685215286] , temps pris : 2:06:27\n",
            "iter 199000000 , cost : 192527580.51367557 , t : [88354.66989511899,139.20634375576813,-8362.299892236731] , temps pris : 2:07:05\n",
            "iter 200000000 , cost : 184533944.00608855 , t : [88380.7497942327,139.20643377784967,-8370.180228554187] , temps pris : 2:07:43\n",
            "iter 201000000 , cost : 176872198.77389207 , t : [88406.28254244015,139.20652191128767,-8377.89523704107] , temps pris : 2:08:21\n",
            "iter 202000000 , cost : 169528564.89178753 , t : [88431.27961885624,139.20660819570332,-8385.448386241062] , temps pris : 2:08:59\n",
            "iter 203000000 , cost : 162489834.49577144 , t : [88455.75226176376,139.20669266989353,-8392.843071928097] , temps pris : 2:09:38\n",
            "iter 204000000 , cost : 155743348.2203925 , t : [88479.71147367035,139.2067753718322,-8400.082618634528] , temps pris : 2:10:16\n",
            "iter 205000000 , cost : 149276972.28109035 , t : [88503.16802625368,139.2068563386981,-8407.170281144316] , temps pris : 2:10:54\n",
            "iter 206000000 , cost : 143079076.58101264 , t : [88526.1324651989,139.20693560690026,-8414.109245955999] , temps pris : 2:11:32\n",
            "iter 207000000 , cost : 137138514.07467586 , t : [88548.61511495082,139.20701321206622,-8420.902632716898] , temps pris : 2:12:11\n",
            "iter 208000000 , cost : 131444600.33788364 , t : [88570.62608334776,139.20708918909443,-8427.553495624268] , temps pris : 2:12:49\n",
            "iter 209000000 , cost : 125987094.70563146 , t : [88592.1752661654,139.2071635721394,-8434.064824799516] , temps pris : 2:13:27\n",
            "iter 210000000 , cost : 120756181.60552503 , t : [88613.27235157194,139.20723639464498,-8440.439547631184] , temps pris : 2:14:05\n",
            "iter 211000000 , cost : 115742453.0786126 , t : [88633.92682447746,139.20730768934814,-8446.680530092488] , temps pris : 2:14:43\n",
            "iter 212000000 , cost : 110936891.7167627 , t : [88654.14797080011,139.2073774883046,-8452.790578028513] , temps pris : 2:15:21\n",
            "iter 213000000 , cost : 106330854.55067599 , t : [88673.94488164321,139.20744582289393,-8458.772438419268] , temps pris : 2:16:00\n",
            "iter 214000000 , cost : 101916057.45700529 , t : [88693.32645737936,139.20751272383654,-8464.628800612418] , temps pris : 2:16:38\n",
            "iter 215000000 , cost : 97684560.28598242 , t : [88712.30141165404,139.207578221207,-8470.362297534668] , temps pris : 2:17:17\n",
            "iter 216000000 , cost : 93628752.45855458 , t : [88730.87827530011,139.20764234445957,-8475.975506873521] , temps pris : 2:17:55\n",
            "iter 217000000 , cost : 89741339.46052638 , t : [88749.0654001788,139.20770512242208,-8481.470952238227] , temps pris : 2:18:33\n",
            "iter 218000000 , cost : 86015329.66972783 , t : [88766.87096292787,139.20776658331445,-8486.851104292406] , temps pris : 2:19:11\n",
            "iter 219000000 , cost : 82444021.70809805 , t : [88784.30296864214,139.20782675476948,-8492.11838186596] , temps pris : 2:19:49\n",
            "iter 220000000 , cost : 79020992.44642068 , t : [88801.36925447159,139.20788566383854,-8497.275153042165] , temps pris : 2:20:28\n",
            "iter 221000000 , cost : 75740085.4413184 , t : [88818.07749314402,139.20794333700567,-8502.323736222506] , temps pris : 2:21:06\n",
            "iter 222000000 , cost : 72595399.7905963 , t : [88834.43519641382,139.20799980020914,-8507.266401168985] , temps pris : 2:21:44\n",
            "iter 223000000 , cost : 69581279.75619756 , t : [88850.44971844181,139.2080550788208,-8512.105370024023] , temps pris : 2:22:22\n",
            "iter 224000000 , cost : 66692304.26778092 , t : [88866.12825910217,139.20810919770003,-8516.842818310462] , temps pris : 2:23:00\n",
            "iter 225000000 , cost : 63923277.439038105 , t : [88881.47786721209,139.20816218117315,-8521.480875908957] , temps pris : 2:23:39\n",
            "iter 226000000 , cost : 61269219.03012192 , t : [88896.5054437078,139.2082140530664,-8526.021628015575] , temps pris : 2:24:17\n",
            "iter 227000000 , cost : 58725355.611120276 , t : [88911.21774474802,139.20826483669973,-8530.46711607899] , temps pris : 2:24:55\n",
            "iter 228000000 , cost : 56287111.97372009 , t : [88925.62138474743,139.2083145549013,-8534.819338719586] , temps pris : 2:25:33\n",
            "iter 229000000 , cost : 53950102.849225454 , t : [88939.72283935008,139.2083632300232,-8539.080252626612] , temps pris : 2:26:11\n",
            "iter 230000000 , cost : 51710125.0249596 , t : [88953.52844834104,139.20841088395272,-8543.251773438944] , temps pris : 2:26:49\n",
            "iter 231000000 , cost : 49563149.80396681 , t : [88967.04441850314,139.20845753811344,-8547.335776604436] , temps pris : 2:27:27\n",
            "iter 232000000 , cost : 47505315.78456536 , t : [88980.27682639913,139.2085032134793,-8551.334098225982] , temps pris : 2:28:06\n",
            "iter 233000000 , cost : 45532921.87916657 , t : [88993.231621107,139.20854793058405,-8555.248535884473] , temps pris : 2:28:44\n",
            "iter 234000000 , cost : 43642420.638933875 , t : [89005.91462689204,139.20859170953662,-8559.080849448106] , temps pris : 2:29:22\n",
            "iter 235000000 , cost : 41830411.970205486 , t : [89018.33154583175,139.20863457001087,-8562.832761863348] , temps pris : 2:30:00\n",
            "iter 236000000 , cost : 40093636.85521346 , t : [89030.48796037276,139.20867653128533,-8566.505959929877] , temps pris : 2:30:39\n",
            "iter 237000000 , cost : 38428971.6724517 , t : [89042.38933584312,139.2087176122197,-8570.102095058548] , temps pris : 2:31:17\n",
            "iter 238000000 , cost : 36833422.46694142 , t : [89054.0410229099,139.2087578312815,-8573.622784013824] , temps pris : 2:31:55\n",
            "iter 239000000 , cost : 35304119.54555749 , t : [89065.44825998502,139.2087972065585,-8577.069609640528] , temps pris : 2:32:33\n",
            "iter 240000000 , cost : 33838312.40815516 , t : [89076.61617557838,139.20883575575266,-8580.444121576535] , temps pris : 2:33:11\n",
            "iter 241000000 , cost : 32433364.767099235 , t : [89087.54979060587,139.20887349619036,-8583.747836947934] , temps pris : 2:33:49\n",
            "iter 242000000 , cost : 31086749.75372437 , t : [89098.25402064611,139.20891044484205,-8586.982241052188] , temps pris : 2:34:28\n",
            "iter 243000000 , cost : 29796045.437254027 , t : [89108.73367814589,139.20894661831923,-8590.148788025337] , temps pris : 2:35:06\n",
            "iter 244000000 , cost : 28558930.445404828 , t : [89118.99347459358,139.20898203288186,-8593.24890149603] , temps pris : 2:35:44\n",
            "iter 245000000 , cost : 27373179.769916143 , t : [89129.03802262628,139.20901670445494,-8596.283975225424] , temps pris : 2:36:22\n",
            "iter 246000000 , cost : 26236660.77292241 , t : [89138.87183811328,139.20905064862927,-8599.255373733648] , temps pris : 2:37:01\n",
            "iter 247000000 , cost : 25147329.448838845 , t : [89148.49934217901,139.20908388065243,-8602.164432914105] , temps pris : 2:37:39\n",
            "iter 248000000 , cost : 24103226.51179609 , t : [89157.92486319567,139.2091164154821,-8605.012460633043] , temps pris : 2:38:18\n",
            "iter 249000000 , cost : 23102474.147948205 , t : [89167.15263872447,139.20914826773563,-8607.800737317377] , temps pris : 2:38:56\n",
            "iter 250000000 , cost : 22143272.437841542 , t : [89176.18681742511,139.2091794517406,-8610.530516532064] , temps pris : 2:39:34\n",
            "iter 251000000 , cost : 21223896.275869098 , t : [89185.0314609205,139.20920998150277,-8613.203025541563] , temps pris : 2:40:13\n",
            "iter 252000000 , cost : 20342692.052424632 , t : [89193.69054561877,139.20923987076736,-8615.819465863417] , temps pris : 2:40:51\n",
            "iter 253000000 , cost : 19498074.9751238 , t : [89202.16796450625,139.20926913295003,-8618.381013806706] , temps pris : 2:41:29\n",
            "iter 254000000 , cost : 18688525.897317655 , t : [89210.46752889319,139.20929778122448,-8620.88882100229] , temps pris : 2:42:08\n",
            "iter 255000000 , cost : 17912588.85867706 , t : [89218.59297013108,139.2093258284598,-8623.344014920436] , temps pris : 2:42:46\n",
            "iter 256000000 , cost : 17168868.272049572 , t : [89226.54794128728,139.20935328727356,-8625.7476993761] , temps pris : 2:43:24\n",
            "iter 257000000 , cost : 16456026.539463654 , t : [89234.336018789,139.20938017000884,-8628.100955027783] , temps pris : 2:44:03\n",
            "iter 258000000 , cost : 15772781.602955408 , t : [89241.96070403041,139.20940648874745,-8630.404839861149] , temps pris : 2:44:41\n",
            "iter 259000000 , cost : 15117904.608997151 , t : [89249.42542494817,139.20943225532497,-8632.660389666018] , temps pris : 2:45:19\n",
            "iter 260000000 , cost : 14490217.73825792 , t : [89256.73353756029,139.20945748132456,-8634.868618500774] , temps pris : 2:45:57\n",
            "iter 261000000 , cost : 13888592.074159814 , t : [89263.88832747735,139.20948217808674,-8637.030519149725] , temps pris : 2:46:35\n",
            "iter 262000000 , cost : 13311945.567569032 , t : [89270.89301137756,139.20950635671664,-8639.147063569266] , temps pris : 2:47:14\n",
            "iter 263000000 , cost : 12759241.094943848 , t : [89277.75073845331,139.20953002808537,-8641.21920332336] , temps pris : 2:47:52\n",
            "iter 264000000 , cost : 12229484.602981247 , t : [89284.46459182992,139.20955320283227,-8643.247870012618] , temps pris : 2:48:30\n",
            "iter 265000000 , cost : 11721723.306044944 , t : [89291.03758994736,139.20957589137672,-8645.233975693345] , temps pris : 2:49:09\n",
            "iter 266000000 , cost : 11235043.96532697 , t : [89297.4726879196,139.2095981039226,-8647.178413286641] , temps pris : 2:49:47\n",
            "iter 267000000 , cost : 10768571.276011901 , t : [89303.77277886207,139.2096198504538,-8649.082056979712] , temps pris : 2:50:25\n",
            "iter 268000000 , cost : 10321466.269231604 , t : [89309.9406951969,139.20964114074695,-8650.945762620724] , temps pris : 2:51:03\n",
            "iter 269000000 , cost : 9892924.819165617 , t : [89315.97920991905,139.20966198437114,-8652.770368101841] , temps pris : 2:51:41\n",
            "iter 270000000 , cost : 9482176.160079122 , t : [89321.89103784808,139.20968239070328,-8654.556693736387] , temps pris : 2:52:20\n",
            "iter 271000000 , cost : 9088481.56014414 , t : [89327.6788368457,139.20970236891242,-8656.305542627319] , temps pris : 2:52:58\n",
            "iter 272000000 , cost : 8711132.924938157 , t : [89333.34520901338,139.20972192798786,-8658.01770102914] , temps pris : 2:53:36\n",
            "iter 273000000 , cost : 8349451.61012938 , t : [89338.89270186164,139.2097410767111,-8659.693938700779] , temps pris : 2:54:14\n",
            "iter 274000000 , cost : 8002787.08422118 , t : [89344.32380945413,139.20975982370376,-8661.335009251687] , temps pris : 2:54:53\n",
            "iter 275000000 , cost : 7670515.88784802 , t : [89349.64097352907,139.20977817738287,-8662.94165048078] , temps pris : 2:55:31\n",
            "iter 276000000 , cost : 7352040.390366837 , t : [89354.84658459897,139.20979614601086,-8664.514584708311] , temps pris : 2:56:09\n",
            "iter 277000000 , cost : 7046787.820715777 , t : [89359.94298302173,139.20981373765883,-8666.054519100038] , temps pris : 2:56:48\n",
            "iter 278000000 , cost : 6754209.1661990415 , t : [89364.93246005567,139.20983096023804,-8667.56214598592] , temps pris : 2:57:26\n",
            "iter 279000000 , cost : 6473778.208698784 , t : [89369.81725889092,139.20984782149205,-8669.038143170426] , temps pris : 2:58:04\n",
            "iter 280000000 , cost : 6204990.592672268 , t : [89374.59957565392,139.2098643289979,-8670.483174238518] , temps pris : 2:58:42\n",
            "iter 281000000 , cost : 5947362.892362475 , t : [89379.28156039803,139.2098804901769,-8671.89788885281] , temps pris : 2:59:21\n",
            "iter 282000000 , cost : 5700431.719183125 , t : [89383.8653180679,139.20989631231114,-8673.282923046252] , temps pris : 2:59:59\n",
            "iter 283000000 , cost : 5463753.032211914 , t : [89388.35290944666,139.20991180248046,-8674.638899507943] , temps pris : 3:00:38\n",
            "iter 284000000 , cost : 5236901.081931405 , t : [89392.74635208352,139.20992696768283,-8675.966427863033] , temps pris : 3:01:16\n",
            "iter 285000000 , cost : 5019467.900640437 , t : [89397.04762119961,139.20994181472082,-8677.266104947124] , temps pris : 3:01:54\n",
            "iter 286000000 , cost : 4811062.429793172 , t : [89401.25865057729,139.2099563502668,-8678.538515073855] , temps pris : 3:02:32\n",
            "iter 287000000 , cost : 4611309.83423395 , t : [89405.3813334266,139.20997058086144,-8679.784230298603] , temps pris : 3:03:11\n",
            "iter 288000000 , cost : 4419850.84457292 , t : [89409.41752323948,139.2099845129059,-8681.00381067467] , temps pris : 3:03:49\n",
            "iter 289000000 , cost : 4236341.125541441 , t : [89413.36903462272,139.20999815265813,-8682.197804505971] , temps pris : 3:04:27\n",
            "iter 290000000 , cost : 4060450.6391973873 , t : [89417.23764411244,139.21001150624437,-8683.366748593062] , temps pris : 3:05:05\n",
            "iter 291000000 , cost : 3891863.0129311704 , t : [89421.02509097278,139.21002457968262,-8684.511168474233] , temps pris : 3:05:44\n",
            "iter 292000000 , cost : 3730275.0642093094 , t : [89424.733077979,139.21003737883495,-8685.631578662425] , temps pris : 3:06:22\n",
            "iter 293000000 , cost : 3575396.137910632 , t : [89428.36327218218,139.21004990947398,-8686.728482875764] , temps pris : 3:07:00\n",
            "iter 294000000 , cost : 3426947.7231168877 , t : [89431.91730565985,139.2100621772075,-8687.802374264938] , temps pris : 3:07:38\n",
            "iter 295000000 , cost : 3284662.7856162353 , t : [89435.39677624842,139.2100741875764,-8688.853735634159] , temps pris : 3:08:16\n",
            "iter 296000000 , cost : 3148285.436148097 , t : [89438.80324826066,139.21008594597234,-8689.883039658795] , temps pris : 3:08:54\n",
            "iter 297000000 , cost : 3017570.4048867193 , t : [89442.13825319339,139.21009745767384,-8690.890749096912] , temps pris : 3:09:32\n",
            "iter 298000000 , cost : 2892282.5770678115 , t : [89445.40329041005,139.21010872786977,-8691.87731699907] , temps pris : 3:10:10\n",
            "iter 299000000 , cost : 2772196.6386386855 , t : [89448.59982781866,139.21011976161353,-8692.843186910153] , temps pris : 3:10:49\n",
            "temps pris (sans normalisation) : 3:10:49\n"
          ]
        },
        {
          "output_type": "execute_result",
          "data": {
            "text/plain": [
              "array([[89451.72930253],\n",
              "       [  139.21013056],\n",
              "       [-8693.78879307]])"
            ]
          },
          "metadata": {},
          "execution_count": 321
        }
      ],
      "source": [
        "import datetime\n",
        "\n",
        "theta = np.zeros((3, 1)) # initialement a 0\n",
        "\n",
        "def gradientDescent_multi_test(X, y, theta, alpha, iterations):\n",
        "  a = datetime.datetime.now().replace(microsecond=0)\n",
        "  m = len(y)\n",
        "  t = np.copy(theta)\n",
        "\n",
        "  for i in range(iterations):\n",
        "    if (i%1000000 == 0):\n",
        "      b = datetime.datetime.now().replace(microsecond=0)\n",
        "      print(\"iter {0} , cost : {1} , t : [{2},{3},{4}] , temps pris : {5}\".format(i,computeCost(X, y,t),t[0][0],t[1][0],t[2][0],(b-a)))\n",
        "    y_pred = np.transpose(np.matmul(X,t))\n",
        "    t[0] = t[0] - (alpha * ((1/m) * np.sum(y_pred - y)))\n",
        "    t[1] = t[1] - (alpha * ((1/m) * np.sum((y_pred - y) * X[:,1])))\n",
        "    t[2] = t[2] - (alpha * ((1/m) * np.sum((y_pred - y) * X[:,2])))\n",
        "\n",
        "  print(\"temps pris (sans normalisation) : {0}\".format(b-a))\n",
        "  return t\n",
        "\n",
        "theta_NoMin = gradientDescent_multi_test(X, y, theta, 0.0000004328, 300000000)\n"
      ]
    },
    {
      "cell_type": "markdown",
      "source": [
        "***Comparaison avec sklearn*** "
      ],
      "metadata": {
        "id": "--oGz29fXOxl"
      }
    },
    {
      "cell_type": "code",
      "source": [
        "from sklearn import linear_model\n",
        "\n",
        "regr = linear_model.LinearRegression()\n",
        "regr.fit(X[:,1:3], y)\n",
        "print('Resultat de sklearn : ')\n",
        "print('Intercept    : (theta 0) ', regr.intercept_[0])\n",
        "print('Coefficients : (theta 1) ', regr.coef_[0][0])\n",
        "print('Coefficients : (theta 2) ', regr.coef_[0][1])\n",
        "\n",
        "\n",
        "print('Notre resultat array : ')\n",
        "print('theta 0 : ',theta_NoMin[0][0])\n",
        "print('theta 1 : ',theta_NoMin[1][0])\n",
        "print('theta 2 : ',theta_NoMin[2][0])"
      ],
      "metadata": {
        "colab": {
          "base_uri": "https://localhost:8080/"
        },
        "id": "_j9SA-7lMa3p",
        "outputId": "cf295b90-19a0-4321-da81-1ddf48c79640"
      },
      "execution_count": null,
      "outputs": [
        {
          "output_type": "stream",
          "name": "stdout",
          "text": [
            "Resultat de sklearn : \n",
            "Intercept    : (theta 0)  89597.76596099924\n",
            "Coefficients : (theta 1)  139.2106346503416\n",
            "Coefficients : (theta 2)  -8737.915420187152\n",
            "Notre resultat array : \n",
            "theta 0 :  89451.72930253\n",
            "theta 1 :  139.21013056\n",
            "theta 2 :  -8693.78879307\n"
          ]
        }
      ]
    },
    {
      "cell_type": "markdown",
      "source": [
        "# ***Application de gradient descent avec la normalisation des données***"
      ],
      "metadata": {
        "id": "TprEJgmHXc2C"
      }
    },
    {
      "cell_type": "code",
      "execution_count": null,
      "metadata": {
        "id": "H0H2WkGif2fD"
      },
      "outputs": [],
      "source": [
        "\n",
        "def standard(arr):\n",
        "  return (arr-arr.mean())/arr.std()\n",
        "\n",
        "def minmax(arr):\n",
        "  new_arr = (arr - arr.min())/(arr.max()-arr.min())\n",
        "  return new_arr\n"
      ]
    },
    {
      "cell_type": "markdown",
      "metadata": {
        "id": "NdJaM9m_f2fD"
      },
      "source": [
        "**Mise à l'échelle des données**"
      ]
    },
    {
      "cell_type": "code",
      "source": [
        "X_MinMax =X\n",
        "X_MinMax[:,1] = minmax(X[:,1])\n",
        "X_MinMax[:,2] = minmax(X[:,2])\n",
        "X_MinMax"
      ],
      "metadata": {
        "id": "L2aTqtGiXm_l"
      },
      "execution_count": null,
      "outputs": []
    },
    {
      "cell_type": "markdown",
      "metadata": {
        "id": "DBcDA_DCf2fD"
      },
      "source": [
        "**Normalisation des données en moyenne = 0**"
      ]
    },
    {
      "cell_type": "code",
      "execution_count": null,
      "metadata": {
        "id": "OyCIvOb1f2fD",
        "colab": {
          "base_uri": "https://localhost:8080/"
        },
        "outputId": "6952e63d-bce6-433b-8a8f-354da4ee933c"
      },
      "outputs": [
        {
          "output_type": "execute_result",
          "data": {
            "text/plain": [
              "array([[ 1.00000000e+00,  1.31415422e-01, -2.26093368e-01],\n",
              "       [ 1.00000000e+00, -5.09640698e-01, -2.26093368e-01],\n",
              "       [ 1.00000000e+00,  5.07908699e-01, -2.26093368e-01],\n",
              "       [ 1.00000000e+00, -7.43677059e-01, -1.55439190e+00],\n",
              "       [ 1.00000000e+00,  1.27107075e+00,  1.10220517e+00],\n",
              "       [ 1.00000000e+00, -1.99450507e-02,  1.10220517e+00],\n",
              "       [ 1.00000000e+00, -5.93588523e-01, -2.26093368e-01],\n",
              "       [ 1.00000000e+00, -7.29685755e-01, -2.26093368e-01],\n",
              "       [ 1.00000000e+00, -7.89466782e-01, -2.26093368e-01],\n",
              "       [ 1.00000000e+00, -6.44465993e-01, -2.26093368e-01],\n",
              "       [ 1.00000000e+00, -7.71822042e-02,  1.10220517e+00],\n",
              "       [ 1.00000000e+00, -8.65999486e-04, -2.26093368e-01],\n",
              "       [ 1.00000000e+00, -1.40779041e-01, -2.26093368e-01],\n",
              "       [ 1.00000000e+00,  3.15099326e+00,  2.43050370e+00],\n",
              "       [ 1.00000000e+00, -9.31923697e-01, -2.26093368e-01],\n",
              "       [ 1.00000000e+00,  3.80715024e-01,  1.10220517e+00],\n",
              "       [ 1.00000000e+00, -8.65782986e-01, -1.55439190e+00],\n",
              "       [ 1.00000000e+00, -9.72625673e-01, -2.26093368e-01],\n",
              "       [ 1.00000000e+00,  7.73743478e-01,  1.10220517e+00],\n",
              "       [ 1.00000000e+00,  1.31050078e+00,  1.10220517e+00],\n",
              "       [ 1.00000000e+00, -2.97227261e-01, -2.26093368e-01],\n",
              "       [ 1.00000000e+00, -1.43322915e-01, -1.55439190e+00],\n",
              "       [ 1.00000000e+00, -5.04552951e-01, -2.26093368e-01],\n",
              "       [ 1.00000000e+00, -4.91995958e-02,  1.10220517e+00],\n",
              "       [ 1.00000000e+00,  2.40309445e+00, -2.26093368e-01],\n",
              "       [ 1.00000000e+00, -1.14560907e+00, -2.26093368e-01],\n",
              "       [ 1.00000000e+00, -6.90255715e-01, -2.26093368e-01],\n",
              "       [ 1.00000000e+00,  6.68172729e-01, -2.26093368e-01],\n",
              "       [ 1.00000000e+00,  2.53521350e-01, -2.26093368e-01],\n",
              "       [ 1.00000000e+00,  8.09357707e-01, -2.26093368e-01],\n",
              "       [ 1.00000000e+00, -2.05647815e-01, -1.55439190e+00],\n",
              "       [ 1.00000000e+00, -1.27280274e+00, -2.88269044e+00],\n",
              "       [ 1.00000000e+00,  5.00114703e-02,  1.10220517e+00],\n",
              "       [ 1.00000000e+00,  1.44532608e+00, -2.26093368e-01],\n",
              "       [ 1.00000000e+00, -2.41262044e-01,  1.10220517e+00],\n",
              "       [ 1.00000000e+00, -7.16966387e-01, -2.26093368e-01],\n",
              "       [ 1.00000000e+00, -9.68809863e-01, -2.26093368e-01],\n",
              "       [ 1.00000000e+00,  1.67029651e-01,  1.10220517e+00],\n",
              "       [ 1.00000000e+00,  2.81647389e+00,  1.10220517e+00],\n",
              "       [ 1.00000000e+00,  2.05187753e-01,  1.10220517e+00],\n",
              "       [ 1.00000000e+00, -4.28236746e-01, -1.55439190e+00],\n",
              "       [ 1.00000000e+00,  3.01854946e-01, -2.26093368e-01],\n",
              "       [ 1.00000000e+00,  7.20322135e-01,  1.10220517e+00],\n",
              "       [ 1.00000000e+00, -1.01841540e+00, -2.26093368e-01],\n",
              "       [ 1.00000000e+00, -1.46104938e+00, -1.55439190e+00],\n",
              "       [ 1.00000000e+00, -1.89112638e-01,  1.10220517e+00],\n",
              "       [ 1.00000000e+00, -1.01459959e+00, -2.26093368e-01]])"
            ]
          },
          "metadata": {},
          "execution_count": 60
        }
      ],
      "source": [
        "X_stand = X\n",
        "X_stand[:,1] = standard(X_MinMax[:,1])\n",
        "X_stand[:,2] = standard(X_MinMax[:,2])\n",
        "X_stand"
      ]
    },
    {
      "cell_type": "markdown",
      "metadata": {
        "id": "vpQf_JxEf2fD"
      },
      "source": [
        "***Appliquer la descente du gradient à plusieurs variables***"
      ]
    },
    {
      "cell_type": "code",
      "execution_count": null,
      "metadata": {
        "id": "WLfWC_WIf2fE",
        "colab": {
          "base_uri": "https://localhost:8080/"
        },
        "outputId": "54c91710-58d4-4f99-fd26-92f00057004a"
      },
      "outputs": [
        {
          "output_type": "execute_result",
          "data": {
            "text/plain": [
              "array([[340412.76595745],\n",
              "       [109447.76551898],\n",
              "       [ -6578.27679028]])"
            ]
          },
          "metadata": {},
          "execution_count": 64
        }
      ],
      "source": [
        "theta = initialisation(3)\n",
        "theta_ , cost ,cout  = gradientDescent(X_stand,y,theta  ,0.1, 9000)\n",
        "theta_"
      ]
    },
    {
      "cell_type": "markdown",
      "source": [
        "***Comparaison avec sklearn*** "
      ],
      "metadata": {
        "id": "qrTkIvJpX4hh"
      }
    },
    {
      "cell_type": "code",
      "source": [
        "from sklearn import linear_model\n",
        "\n",
        "regr = linear_model.LinearRegression()\n",
        "regr.fit(X_stand[:,1:3], y)\n",
        "\n",
        "print('Resultat de sklearn : ')\n",
        "print('Intercept    : (theta 0) ', regr.intercept_[0])\n",
        "print('Coefficients : (theta 1) ', regr.coef_[0][0])\n",
        "print('Coefficients : (theta 2) ', regr.coef_[0][1])\n",
        "\n",
        "\n",
        "print('Notre resultat array : ')\n",
        "print('theta 0 : ',theta_[0][0])\n",
        "print('theta 1 : ',theta_[1][0])\n",
        "print('theta 2 : ',theta_[2][0])\n"
      ],
      "metadata": {
        "colab": {
          "base_uri": "https://localhost:8080/"
        },
        "id": "yL5SJ8D0QrSv",
        "outputId": "0ad153ab-d16c-48f7-d674-1109ee18efba"
      },
      "execution_count": null,
      "outputs": [
        {
          "output_type": "stream",
          "name": "stdout",
          "text": [
            "Resultat de sklearn : \n",
            "Intercept    : (theta 0)  340412.76595744677\n",
            "Coefficients : (theta 1)  109447.76551898006\n",
            "Coefficients : (theta 2)  -6578.276790278803\n",
            "Notre resultat array : \n",
            "theta 0 :  340412.76595744654\n",
            "theta 1 :  109447.76551897996\n",
            "theta 2 :  -6578.276790278744\n"
          ]
        }
      ]
    },
    {
      "cell_type": "markdown",
      "source": [
        "# ***Evaluation de Notre Model***"
      ],
      "metadata": {
        "id": "0fgPGkeAhisc"
      }
    },
    {
      "cell_type": "markdown",
      "source": [
        "***Avec Normalisation***"
      ],
      "metadata": {
        "id": "KweG6d1zkU3n"
      }
    },
    {
      "cell_type": "code",
      "source": [
        "y_pred=np.matmul(X_stand,theta_)\n",
        "s1 = evaluation(y,y_pred)\n",
        "s2 = regr.score(X_stand[:,1:3],y)\n",
        "print(\"notre score : {0}\".format(s1))\n",
        "print(\"sklearn score : {0}\".format(s2))"
      ],
      "metadata": {
        "colab": {
          "base_uri": "https://localhost:8080/"
        },
        "id": "LTngysjzQxde",
        "outputId": "711bff6e-1e27-4bea-bdde-4d172926d329"
      },
      "execution_count": null,
      "outputs": [
        {
          "output_type": "stream",
          "name": "stdout",
          "text": [
            "notre score : 0.7329450119546197\n",
            "sklearn score : 0.7329450119546197\n"
          ]
        }
      ]
    },
    {
      "cell_type": "markdown",
      "source": [
        "***Sans Normalisation***"
      ],
      "metadata": {
        "id": "WBRAGT4tkTzF"
      }
    },
    {
      "cell_type": "code",
      "source": [
        "y_pred=np.matmul(X,theta_NoMin)\n",
        "s1 = evaluation(y,y_pred)\n",
        "s2 = regr.score(X[:,1:3],y)\n",
        "print(\"notre score : {0}\".format(s1))\n",
        "print(\"sklearn score : {0}\".format(s2))"
      ],
      "metadata": {
        "colab": {
          "base_uri": "https://localhost:8080/"
        },
        "id": "QdJusEmjU4pZ",
        "outputId": "b271f4ec-8769-4685-e012-8bbd03a35a83"
      },
      "execution_count": null,
      "outputs": [
        {
          "output_type": "stream",
          "name": "stdout",
          "text": [
            "notre score : 0.7329449374434782\n",
            "sklearn score : 0.7329450119546197\n"
          ]
        }
      ]
    },
    {
      "cell_type": "markdown",
      "metadata": {
        "id": "Kad6xSS4f2fE"
      },
      "source": [
        "**Comparer la descente du gradient avec et sans normalisation**\n",
        "- **Exemple**: voir la difference dans le temps de calcul"
      ]
    },
    {
      "cell_type": "code",
      "execution_count": null,
      "metadata": {
        "id": "KVKREJTZf2fE"
      },
      "outputs": [],
      "source": [
        "#pour la comparaison des deux methode l'evaluation précédant montre que la methode \n",
        "#qui fait la normalisation donne des mielleurs resultat avec un temps reduit\n",
        "\n",
        "#sans normalisation : temps pris : 3:10:49 \n",
        "#avec normalisation : temps pris : 0:01\n"
      ]
    },
    {
      "cell_type": "markdown",
      "metadata": {
        "id": "myj4lVHTf2fE"
      },
      "source": [
        "# Renforcement d'apprentissage\n",
        "**l'idee c'est : **\n",
        "\n",
        "bon madame avec normalisation c'est presque en ms .. l'apprentissage est très rapide (et on a eu le même résultat avec les autres libraries ) .. mais sans la normalisation 😅 ça pris 3:10:49s (300000000 iterations) pour avoir :\n",
        "\n",
        "\n",
        "*   thêta : [ 89448.59,139.21,-8692.84 ] \n",
        "*   cost :  2772196\n",
        "*   alpha : 0.0000004328\n",
        "\n",
        "\n",
        "\n",
        "les résultats obtenues du coefficients de thêta sont proche du résultat de sklearn mais sa pris beaucoup de temps et c'est pas le résultat exact ( genre elle a pas convergé au bout ) \n",
        "\n",
        "donc après l'investigation , nous avons constaté que le problème c'était 'le alpha (Learning rates)' , il est très petit mais si on l'incrémente pour accélérer le processus la fonction diverge . \n",
        "et on a vu que theta1 varie lentement que theta0 et theta2 , donc on a **fais des alphas ( Learning rates ) différentes  pour chaque thêta** ,\n",
        "a1 : 0.001 pour theta1 et theta2 , a2 : 0.0000001 theta1\n",
        "voici le résultat avec multiples learning rates :\n",
        "*  temps pris : 0:00:44\n",
        "*  theta : [  89597.76,139.21,-8737.91  ] \n",
        "*  cost :  2.74 e-12"
      ]
    },
    {
      "cell_type": "code",
      "execution_count": null,
      "metadata": {
        "colab": {
          "base_uri": "https://localhost:8080/"
        },
        "id": "e8hqUv8UduBS",
        "outputId": "1dece520-d786-45cd-e692-5391ecc01008"
      },
      "outputs": [
        {
          "name": "stdout",
          "output_type": "stream",
          "text": [
            "iter 0 , cost : 6015548808460000.0 , t : [0.0,0.0,0.0] , temps pris : 0:00:00\n",
            "iter 100000 , cost : 49443819.939814 , t : [88967.80408012208,139.2084575351048,-8547.563659159016] , temps pris : 0:00:04\n",
            "iter 200000 , cost : 2746.4131352407953 , t : [89593.0709004592,139.2106184244585,-8736.496742217809] , temps pris : 0:00:08\n",
            "iter 300000 , cost : 0.15255263386010978 , t : [89597.73096905177,139.21063452941124,-8737.90484688259] , temps pris : 0:00:14\n",
            "iter 400000 , cost : 8.47368622905291e-06 , t : [89597.76570020692,139.21063464944032,-8737.915341385116] , temps pris : 0:00:21\n",
            "iter 500000 , cost : 4.682983433810393e-10 , t : [89597.76595905368,139.21063465033336,-8737.915419598214] , temps pris : 0:00:25\n",
            "iter 600000 , cost : 2.7472364593178304e-12 , t : [89597.76596085784,139.21063465034257,-8737.915420145458] , temps pris : 0:00:29\n",
            "iter 700000 , cost : 2.7472364593178304e-12 , t : [89597.76596085784,139.21063465034257,-8737.915420145458] , temps pris : 0:00:33\n",
            "iter 800000 , cost : 2.7472364593178304e-12 , t : [89597.76596085784,139.21063465034257,-8737.915420145458] , temps pris : 0:00:36\n",
            "iter 900000 , cost : 2.7472364593178304e-12 , t : [89597.76596085784,139.21063465034257,-8737.915420145458] , temps pris : 0:00:40\n",
            "temps pris : 0:00:44\n"
          ]
        }
      ],
      "source": [
        "def gradientDescent_multi_test_alpha(X, y, theta, alpha, iterations):\n",
        "  a = datetime.datetime.now().replace(microsecond=0)\n",
        "  m = len(y)\n",
        "  t = np.copy(theta)\n",
        "\n",
        "  for i in range(iterations):\n",
        "    if (i%100000 == 0):\n",
        "      b = datetime.datetime.now().replace(microsecond=0)\n",
        "      print(\"iter {0} , cost : {1} , t : [{2},{3},{4}] , temps pris : {5}\".format(i,computeCost(X, y,t),t[0][0],t[1][0],t[2][0],(b-a)))\n",
        "    y_pred = np.transpose(np.matmul(X,t))\n",
        "    t[0] = t[0] - (alpha[0] * ((1/m) * np.sum(y_pred - y)))\n",
        "    t[1] = t[1] - (alpha[1] * ((1/m) * np.sum((y_pred - y) * X[:,1])))\n",
        "    t[2] = t[2] - (alpha[2] * ((1/m) * np.sum((y_pred - y) * X[:,2])))\n",
        "\n",
        "\n",
        "a = datetime.datetime.now().replace(microsecond=0)\n",
        "t = gradientDescent_multi_test_alpha(X, y, theta, [0.001,0.0000001,0.001], 1000000)\n",
        "b = datetime.datetime.now().replace(microsecond=0)\n",
        "print(\"temps pris : {0}\".format(b-a))"
      ]
    },
    {
      "cell_type": "markdown",
      "metadata": {
        "id": "4GkBHwqHf2fE"
      },
      "source": [
        "# Consignes"
      ]
    },
    {
      "cell_type": "markdown",
      "metadata": {
        "id": "6OLr8Sc6f2fE"
      },
      "source": [
        "Le travail est à remettre par groupe de 4 au maximum [1..4].\n",
        "\n",
        "Le délai est le vendredi 18 Mars 2022 à 22h\n"
      ]
    },
    {
      "cell_type": "code",
      "execution_count": null,
      "metadata": {
        "id": "xJNAftmjf2fF"
      },
      "outputs": [],
      "source": [
        "# bonne chance"
      ]
    }
  ],
  "metadata": {
    "kernelspec": {
      "display_name": "Python 3",
      "language": "python",
      "name": "python3"
    },
    "language_info": {
      "codemirror_mode": {
        "name": "ipython",
        "version": 3
      },
      "file_extension": ".py",
      "mimetype": "text/x-python",
      "name": "python",
      "nbconvert_exporter": "python",
      "pygments_lexer": "ipython3",
      "version": "3.7.3"
    },
    "colab": {
      "name": "TP_2_Descente_du_gradient__2_(final).ipynb",
      "provenance": [],
      "collapsed_sections": []
    }
  },
  "nbformat": 4,
  "nbformat_minor": 0
}